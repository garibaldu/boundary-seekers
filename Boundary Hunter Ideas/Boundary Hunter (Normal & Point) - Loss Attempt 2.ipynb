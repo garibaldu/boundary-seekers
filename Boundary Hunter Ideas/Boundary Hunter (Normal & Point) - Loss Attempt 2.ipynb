{
 "cells": [
  {
   "cell_type": "code",
   "execution_count": 40,
   "metadata": {
    "collapsed": true
   },
   "outputs": [],
   "source": [
    "%matplotlib inline\n",
    "\n",
    "import matplotlib\n",
    "import autograd.numpy as np\n",
    "import matplotlib.pyplot as plt\n",
    "import random\n",
    "import math\n",
    "from autograd import grad\n",
    "\n",
    "def generateChevronData():\n",
    "    xBounds = [-50, 50]\n",
    "    yBounds = [-50, 50]\n",
    "    totalPoints = 100\n",
    "    \n",
    "    points = []\n",
    "    targets = []\n",
    "    \n",
    "    for i in range(0, totalPoints):\n",
    "        x = random.randint(xBounds[0], xBounds[1])\n",
    "        y = random.randint(yBounds[0], yBounds[1])\n",
    "        \n",
    "        if x >= y and x <= -y:\n",
    "            points.append([x/50.0,y/50.0])\n",
    "            targets.append(0)\n",
    "        else:\n",
    "            points.append([x/50.0,y/50.0])\n",
    "            targets.append(1)\n",
    "        \n",
    "    return np.array(points), np.array(targets)\n",
    "    \n",
    "def plotScatter(points):\n",
    "    xs = [x[0] for x in points]\n",
    "    ys = [y[1] for y in points]\n",
    "    \n",
    "    plt.scatter(xs, ys)"
   ]
  },
  {
   "cell_type": "code",
   "execution_count": 41,
   "metadata": {
    "collapsed": false
   },
   "outputs": [],
   "source": [
    "def sigmoid(phi):\n",
    "    return 1.0/(1.0 + np.exp(-phi))\n",
    "\n",
    "def loss(weights):\n",
    "    predictions = logisticPrediction(weights, points)\n",
    "#     crossEntropy = (targets*np.log(predictions) + (1-targets)*np.log(1-predictions))\n",
    "    r = responsibility(weights, points)\n",
    "    notLocal = list(map(lambda x: not (r[x] < 0.5 ),range(0, len(points))))\n",
    "    \n",
    "    crossEntropyRScaled = r * (crossEntropy(targets, predictions))\n",
    "    opositeCrossEntropyRScaled = r * (crossEntropy(1-targets, predictions))\n",
    "    \n",
    "    local = np.array([crossEntropyRScaled[i] for i in range(0, len(points)) if notLocal[i] == False])\n",
    "    outside = np.array([opositeCrossEntropyRScaled[i] for i in range(0, len(points)) if notLocal[i] == True])\n",
    "    \n",
    "    localLoss = 0\n",
    "    if not len(local) == 0:\n",
    "#         print(\"LOCAL EMPTY\")\n",
    "        localLoss = (1/len(local)) * np.sum(local)\n",
    "    \n",
    "    outsideLoss = 0\n",
    "    if not len(outside) == 0:\n",
    "#         print(\"OUTSIDE EMPTY\")\n",
    "        outsideLoss = (1/len(outside)) * np.sum(outside)\n",
    "    \n",
    "    return -(localLoss + outsideLoss)\n",
    "    \n",
    "#     nonLocalPoints = np.array([points[i] for i in range(0, len(points)) if notLocal[i] == True])\n",
    "#     nonLocalTargets = np.array([targets[i] for i in range(0, len(points)) if notLocal[i] == True])\n",
    "#     nonLocalPredictions = np.array([predictions[i] for i in range(0, len(points)) if notLocal[i] == True])\n",
    "#     nonLocalR = np.array([r[i] for i in range(0, len(points)) if notLocal[i] for i in range(0, len(points)) if notLocal[i] == True])\n",
    "\n",
    "#     return -(1/len(localPoints)) * (np.sum(crossEntropy(localTargets, localPredictions))) -(1/len(nonLocalPoints)) * (np.sum(nonLocalR * invCrossEntropy(nonLocalTargets, nonLocalPredictions)))\n",
    "    \n",
    "def crossEntropy(t, p):\n",
    "    return t * np.log(p) + (1-t) * np.log(1-p)\n",
    "\n",
    "def logisticPrediction(weights, p):\n",
    "    return np.array(list(map(lambda x: predict(weights, x), p))) \n",
    "    \n",
    "def predict(weights, inputs):\n",
    "    n = np.array([weights[0], weights[1]])\n",
    "    i = np.array([weights[2] - inputs[0], weights[3] - inputs[1]])\n",
    "    return sigmoid(np.dot(n, i))\n",
    "\n",
    "def responsibility(weights, points):\n",
    "    r = np.absolute(weights[4])\n",
    "    a = np.array([weights[2], weights[3]])\n",
    "    \n",
    "    dif = np.array(list(map(lambda x: x - a, points)))\n",
    "    s = np.array(list(map(lambda x: np.sum(np.power(x, 2)), dif)))\n",
    "    d = np.sqrt(s)\n",
    "\n",
    "    t = 1 - f(d, r)\n",
    "    return t\n",
    "\n",
    "def f(d, r):\n",
    "    return 1/(1 + np.power(np.e, 10*(d-r)))"
   ]
  },
  {
   "cell_type": "code",
   "execution_count": null,
   "metadata": {
    "collapsed": true
   },
   "outputs": [],
   "source": []
  },
  {
   "cell_type": "code",
   "execution_count": 42,
   "metadata": {
    "collapsed": true
   },
   "outputs": [],
   "source": [
    "def trainBoundaryHunter():\n",
    "    weights = np.array([0.0, 0.0, 0.0, 0.0, 0.3])\n",
    "    gradient = grad(loss)\n",
    "    print(\"Initial Loss: \", loss(weights))\n",
    "    for i in range(0, 10000):\n",
    "        g = gradient(weights)\n",
    "        \n",
    "        if i % 1000 == 0:\n",
    "            print(\"Loss [i = \" + str(i) + \"]: \" + str(loss(weights)))\n",
    "            print(weights)\n",
    "            checkGrad(0.00001, 0.0001, weights, g)\n",
    "        \n",
    "#         weights = computeStep(weights)\n",
    "        weights -= 0.001 * g\n",
    "        if weights[4] < 0:\n",
    "            weights[4] = 0\n",
    "            \n",
    "    print(\"Trained Loss: \", loss(weights))    \n",
    "    print(\"Weights: \", weights)\n",
    "    return weights\n",
    "\n",
    "def checkGrad(pterb, threshold, weights, g):\n",
    "    grad = np.zeros(len(weights))\n",
    "    for i in range(0, len(weights)):\n",
    "        p = np.zeros(len(weights))\n",
    "        p[i] = pterb\n",
    "        \n",
    "        lossBefore = loss(weights)\n",
    "        lossAfter = loss(weights + p)\n",
    "        \n",
    "        grad[i] = (lossAfter - lossBefore)/pterb\n",
    "        \n",
    "\n",
    "    return grad\n",
    "\n",
    "    dif = np.absolute(computedGrad - grad)\n",
    "    for d in dif:\n",
    "        if d > threshold:\n",
    "            print(\"ERROR\")\n",
    "    "
   ]
  },
  {
   "cell_type": "code",
   "execution_count": 43,
   "metadata": {
    "collapsed": false
   },
   "outputs": [
    {
     "name": "stdout",
     "output_type": "stream",
     "text": [
      "Type 0:  35\n",
      "Type 1:  65\n",
      "Initial Loss:  0.300831327922\n",
      "Loss [i = 0]: 0.300831327922\n",
      "[ 0.   0.   0.   0.   0.3]\n",
      "Loss [i = 1000]: 0.19917915329\n",
      "[ -1.34337894e-02   6.56555875e-04   2.14203536e-01  -6.20888549e-02\n",
      "   6.70344313e-01]\n",
      "Loss [i = 2000]: 0.149965001645\n",
      "[-0.02142443  0.0082512   0.44445075 -0.0607319   0.74385913]\n",
      "Loss [i = 3000]: 0.138664533224\n",
      "[-0.03714     0.01627567  0.51853086 -0.07075772  0.75505808]\n",
      "Loss [i = 4000]: 0.138290672367\n",
      "[-0.05186589  0.02264397  0.52751341 -0.07147764  0.75784444]\n",
      "Loss [i = 5000]: 0.138040886833\n",
      "[-0.06635008  0.02878275  0.52866215 -0.07107454  0.75832384]\n",
      "Loss [i = 6000]: 0.137798132935\n",
      "[-0.08071042  0.03480899  0.52863103 -0.07062735  0.75836727]\n",
      "Loss [i = 7000]: 0.137559609809\n",
      "[-0.09496259  0.04073832  0.52841243 -0.07018969  0.75833239]\n",
      "Loss [i = 8000]: 0.137325166294\n",
      "[-0.10910972  0.04657375  0.52816523 -0.06975857  0.75828242]\n",
      "Loss [i = 9000]: 0.137094722467\n",
      "[-0.12315315  0.05231643  0.52791549 -0.06933235  0.75822824]\n",
      "Trained Loss:  0.136868201564\n",
      "Weights:  [-0.13709397  0.05796721  0.52766757 -0.06891063  0.75817172]\n",
      "\n",
      "[-0.0763346   0.13709397 -0.05796721]\n",
      "\n",
      "Line\n",
      "B: -1.31685828582\n",
      "XCoef: 2.36502626043\n"
     ]
    },
    {
     "data": {
      "image/png": "[encoded data removed]",
      "text/plain": [
       "<matplotlib.figure.Figure at 0x1e3c3e55e48>"
      ]
     },
     "metadata": {},
     "output_type": "display_data"
    }
   ],
   "source": [
    "random.seed(1234)\n",
    "points, targets = generateChevronData()\n",
    "\n",
    "plt.axis([-1.5, 1.5, -1.5, 1.5])\n",
    "\n",
    "# Plot points on graph\n",
    "c1 = []\n",
    "c2 = []\n",
    "\n",
    "for i in range(0, len(points)):\n",
    "    if targets[i] == 0:\n",
    "        c1.append(points[i])\n",
    "    else:\n",
    "        c2.append(points[i])\n",
    "\n",
    "print(\"Type 0: \", len(c1))\n",
    "print(\"Type 1: \", len(c2))\n",
    "        \n",
    "plotScatter(c1)\n",
    "plotScatter(c2)\n",
    "\n",
    "weights = trainBoundaryHunter()\n",
    "\n",
    "# plt.scatter(weights[1], weights[2])\n",
    "plt.scatter(weights[2], weights[3])\n",
    "\n",
    "n = np.array([weights[0] * weights[2] + weights[1] * weights[3], \n",
    "              -weights[0], \n",
    "              -weights[1]])\n",
    "\n",
    "byas = -1 * n[0]/n[2]\n",
    "Xcoef = -1 * n[1]/n[2]\n",
    "\n",
    "x = np.linspace(-1.5, 1.5, 500)\n",
    "y = np.linspace(-1.5, 1.5, 500)\n",
    "X, Y = np.meshgrid(x,y)\n",
    "F = ((X - weights[2]))**2 + ((Y - weights[3]))**2 - weights[4]**2\n",
    "plt.contour(X,Y,F,[0])\n",
    "\n",
    "print()\n",
    "print(n)\n",
    "print(\"\\nLine\")\n",
    "print(\"B: \" + str(byas))\n",
    "print(\"XCoef: \" + str(Xcoef))\n",
    "\n",
    "plt.plot([-1.0, 1.0], [-1*Xcoef + byas, Xcoef + byas], 'k-')\n",
    "plt.gca().set_aspect('equal')\n",
    "\n",
    "plt.show()"
   ]
  },
  {
   "cell_type": "code",
   "execution_count": null,
   "metadata": {
    "collapsed": true
   },
   "outputs": [],
   "source": []
  },
  {
   "cell_type": "code",
   "execution_count": null,
   "metadata": {
    "collapsed": true
   },
   "outputs": [],
   "source": []
  },
  {
   "cell_type": "code",
   "execution_count": null,
   "metadata": {
    "collapsed": true
   },
   "outputs": [],
   "source": []
  },
  {
   "cell_type": "code",
   "execution_count": null,
   "metadata": {
    "collapsed": true
   },
   "outputs": [],
   "source": []
  }
 ],
 "metadata": {
  "kernelspec": {
   "display_name": "Python 3",
   "language": "python",
   "name": "python3"
  },
  "language_info": {
   "codemirror_mode": {
    "name": "ipython",
    "version": 3
   },
   "file_extension": ".py",
   "mimetype": "text/x-python",
   "name": "python",
   "nbconvert_exporter": "python",
   "pygments_lexer": "ipython3",
   "version": "3.6.0"
  }
 },
 "nbformat": 4,
 "nbformat_minor": 2
}
