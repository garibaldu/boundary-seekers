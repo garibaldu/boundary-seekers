{
 "cells": [
  {
   "cell_type": "code",
   "execution_count": 1,
   "metadata": {
    "collapsed": true
   },
   "outputs": [],
   "source": [
    "%matplotlib inline\n",
    "\n",
    "import matplotlib\n",
    "import autograd.numpy as np\n",
    "import matplotlib.pyplot as plt\n",
    "import random\n",
    "import math\n",
    "from autograd import grad\n",
    "\n",
    "def generateChevronData():\n",
    "    xBounds = [-50, 50]\n",
    "    yBounds = [-50, 50]\n",
    "    totalPoints = 100\n",
    "    \n",
    "    points = []\n",
    "    targets = []\n",
    "    \n",
    "    for i in range(0, totalPoints):\n",
    "        x = random.randint(xBounds[0], xBounds[1])\n",
    "        y = random.randint(yBounds[0], yBounds[1])\n",
    "        \n",
    "        if x >= y and x <= -y:\n",
    "            points.append([x/50.0,y/50.0])\n",
    "            targets.append(0)\n",
    "        else:\n",
    "            points.append([x/50.0,y/50.0])\n",
    "            targets.append(1)\n",
    "        \n",
    "    return np.array(points), np.array(targets)\n",
    "    \n",
    "def plotScatter(points):\n",
    "    xs = [x[0] for x in points]\n",
    "    ys = [y[1] for y in points]\n",
    "    \n",
    "    plt.scatter(xs, ys)"
   ]
  },
  {
   "cell_type": "code",
   "execution_count": 2,
   "metadata": {
    "collapsed": false
   },
   "outputs": [],
   "source": [
    "def sigmoid(phi):\n",
    "    return 1.0/(1.0 + np.exp(-phi))\n",
    "\n",
    "def loss(weights):\n",
    "    predictions = logisticPrediction(weights, points)\n",
    "    w = np.full((len(predictions)), np.log(1/2)) # CONSTANT\n",
    "    r = responsibility(weights, points)\n",
    "    return -(1/len(points)) * np.sum(r *((targets*np.log(predictions) + (1-targets)*np.log(1-predictions))))\n",
    "\n",
    "def logisticPrediction(weights, p):\n",
    "    return np.array(list(map(lambda x: predict(weights, x), p))) \n",
    "    \n",
    "def predict(weights, inputs):\n",
    "    n = np.array([weights[0], weights[1]])\n",
    "    i = np.array([weights[2] - inputs[0], weights[3] - inputs[1]])\n",
    "    return sigmoid(np.dot(n, i))\n",
    "\n",
    "def responsibility(weights, points):\n",
    "    r = weights[4]\n",
    "    a = np.array([weights[2], weights[3]])\n",
    "    \n",
    "    dif = np.array(list(map(lambda x: x - a, points)))\n",
    "    s = np.array(list(map(lambda x: np.sum(np.power(x, 2)), dif)))\n",
    "    d = np.sqrt(s)\n",
    "#     print(d)\n",
    "    t = 1-f(d, r)\n",
    "#     print(t)\n",
    "\n",
    "    return t\n",
    "\n",
    "def f(d, r):\n",
    "    return 1/(1 + np.power(np.e, 10*(d-r)))\n",
    "#     return np.power(np.e, -(1.0/15.0) * np.power(d/r, 2))\n",
    "#     return np.maximum(d - r, 0)/(np.abs(d - r) + 0.1)"
   ]
  },
  {
   "cell_type": "code",
   "execution_count": null,
   "metadata": {
    "collapsed": true
   },
   "outputs": [],
   "source": []
  },
  {
   "cell_type": "code",
   "execution_count": 3,
   "metadata": {
    "collapsed": true
   },
   "outputs": [],
   "source": [
    "def trainBoundaryHunter():\n",
    "#     weights = np.array([0.0, 0.0, 0.0, 0.0, 0.3])\n",
    "    weights = np.random.rand(5)\n",
    "    weights[4] = 0.5\n",
    "    gradient = grad(loss)\n",
    "    print(\"Initial Loss: \", loss(weights))\n",
    "    for i in range(0, 10000):\n",
    "        g = gradient(weights)\n",
    "        \n",
    "        if i % 1000 == 0:\n",
    "            print(\"Loss [i = \" + str(i) + \"]: \" + str(loss(weights)))\n",
    "            print(weights)\n",
    "            checkGrad(0.00001, 0.0001, weights, g)\n",
    "        \n",
    "        dL_dr = numericGrad(0.1, weights)[4]\n",
    "#         print(str(dL_dr) + \" -> \" + str(loss(weights)))\n",
    "        g[4] = -dL_dr\n",
    "        \n",
    "        weights -= 0.01 * g\n",
    "            \n",
    "    print(\"Trained Loss: \", loss(weights))    \n",
    "    print(\"Weights: \", weights)\n",
    "    return weights\n",
    "\n",
    "def checkGrad(pterb, threshold, weights, g):\n",
    "    grad = numericGrad(pterb, weights)\n",
    "        \n",
    "    dif = np.absolute(g - grad)\n",
    "    for d in dif:\n",
    "        if d > threshold:\n",
    "            print(\"ERROR\")\n",
    "    \n",
    "    \n",
    "def numericGrad(pterb, weights):\n",
    "    grad = np.zeros(len(weights))\n",
    "    for i in range(0, len(weights)):\n",
    "        p = np.zeros(len(weights))\n",
    "        p[i] = pterb\n",
    "        \n",
    "        lossBefore = loss(weights)\n",
    "        lossAfter = loss(weights + p)\n",
    "        \n",
    "        grad[i] = (lossAfter - lossBefore)/pterb\n",
    "        \n",
    "    return grad"
   ]
  },
  {
   "cell_type": "code",
   "execution_count": 4,
   "metadata": {
    "collapsed": false
   },
   "outputs": [
    {
     "name": "stdout",
     "output_type": "stream",
     "text": [
      "Type 0:  35\n",
      "Type 1:  65\n",
      "Initial Loss:  0.618508003712\n",
      "Loss [i = 0]: 0.618508003712\n",
      "[ 0.03162182  0.26835171  0.58032248  0.37263115  0.5       ]\n",
      "Loss [i = 1000]: 0.49781445166\n",
      "[ 0.36422635 -1.07292656  0.80034753 -0.24360724 -0.27996243]\n",
      "Loss [i = 2000]: 0.383211113561\n",
      "[ 0.0523406  -2.03077965  0.85313713 -0.51420695 -0.3347515 ]\n",
      "Loss [i = 3000]: 0.337694045116\n",
      "[-0.21652675 -2.64392384  0.85544218 -0.56365542 -0.37346808]\n",
      "Loss [i = 4000]: 0.314352811563\n",
      "[-0.39808998 -3.08990415  0.85745    -0.58533148 -0.40326828]\n",
      "Loss [i = 5000]: 0.300492442035\n",
      "[-0.52973414 -3.43753038  0.85979297 -0.59738504 -0.42714031]\n",
      "Loss [i = 6000]: 0.291461711743\n",
      "[-0.63105551 -3.72023921  0.86224423 -0.6051395  -0.44697386]\n",
      "Loss [i = 7000]: 0.285199093544\n",
      "[-0.71259077 -3.95680507  0.86465977 -0.6106644  -0.46391784]\n",
      "Loss [i = 8000]: 0.280658948382\n",
      "[-0.78040384 -4.15885412  0.86697648 -0.61489957 -0.47870319]\n",
      "Loss [i = 9000]: 0.277256794051\n",
      "[-0.83821032 -4.33410498  0.86917258 -0.61832142 -0.49181834]\n",
      "Trained Loss:  0.274641380351\n",
      "Weights:  [-0.88841301 -4.48795385  0.87124523 -0.6211928  -0.50360402]\n",
      "\n",
      "[ 2.01385904  0.88841301  4.48795385]\n",
      "\n",
      "Line\n",
      "B: -0.448725434022\n",
      "XCoef: -0.197955023085\n"
     ]
    },
    {
     "data": {
      "image/png": "[encoded data removed]",
      "text/plain": [
       "<matplotlib.figure.Figure at 0x1a531aad2e8>"
      ]
     },
     "metadata": {},
     "output_type": "display_data"
    }
   ],
   "source": [
    "random.seed(1234)\n",
    "points, targets = generateChevronData()\n",
    "\n",
    "plt.axis([-1.5, 1.5, -1.5, 1.5])\n",
    "\n",
    "# Plot points on graph\n",
    "c1 = []\n",
    "c2 = []\n",
    "\n",
    "for i in range(0, len(points)):\n",
    "    if targets[i] == 0:\n",
    "        c1.append(points[i])\n",
    "    else:\n",
    "        c2.append(points[i])\n",
    "\n",
    "print(\"Type 0: \", len(c1))\n",
    "print(\"Type 1: \", len(c2))\n",
    "        \n",
    "plotScatter(c1)\n",
    "plotScatter(c2)\n",
    "\n",
    "weights = trainBoundaryHunter()\n",
    "\n",
    "plt.scatter(weights[2], weights[3])\n",
    "\n",
    "n = np.array([weights[0] * weights[2] + weights[1] * weights[3], \n",
    "              -weights[0], \n",
    "              -weights[1]])\n",
    "\n",
    "byas = -1 * n[0]/n[2]\n",
    "Xcoef = -1 * n[1]/n[2]\n",
    "\n",
    "x = np.linspace(-1.5, 1.5, 500)\n",
    "y = np.linspace(-1.5, 1.5, 500)\n",
    "X, Y = np.meshgrid(x,y)\n",
    "F = ((X - weights[2]))**2 + ((Y - weights[3]))**2 - weights[4]**2\n",
    "plt.contour(X,Y,F,[0])\n",
    "\n",
    "print()\n",
    "print(n)\n",
    "print(\"\\nLine\")\n",
    "print(\"B: \" + str(byas))\n",
    "print(\"XCoef: \" + str(Xcoef))\n",
    "\n",
    "plt.plot([-1.0, 1.0], [-1*Xcoef + byas, Xcoef + byas], 'k-')\n",
    "plt.gca().set_aspect('equal')\n",
    "\n",
    "plt.show()"
   ]
  },
  {
   "cell_type": "code",
   "execution_count": null,
   "metadata": {
    "collapsed": true
   },
   "outputs": [],
   "source": []
  },
  {
   "cell_type": "code",
   "execution_count": null,
   "metadata": {
    "collapsed": true
   },
   "outputs": [],
   "source": []
  },
  {
   "cell_type": "code",
   "execution_count": null,
   "metadata": {
    "collapsed": true
   },
   "outputs": [],
   "source": []
  },
  {
   "cell_type": "code",
   "execution_count": null,
   "metadata": {
    "collapsed": true
   },
   "outputs": [],
   "source": []
  },
  {
   "cell_type": "code",
   "execution_count": null,
   "metadata": {
    "collapsed": true
   },
   "outputs": [],
   "source": []
  }
 ],
 "metadata": {
  "kernelspec": {
   "display_name": "Python 3",
   "language": "python",
   "name": "python3"
  },
  "language_info": {
   "codemirror_mode": {
    "name": "ipython",
    "version": 3
   },
   "file_extension": ".py",
   "mimetype": "text/x-python",
   "name": "python",
   "nbconvert_exporter": "python",
   "pygments_lexer": "ipython3",
   "version": "3.6.0"
  }
 },
 "nbformat": 4,
 "nbformat_minor": 2
}
