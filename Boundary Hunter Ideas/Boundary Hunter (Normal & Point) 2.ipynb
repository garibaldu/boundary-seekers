{
 "cells": [
  {
   "cell_type": "code",
   "execution_count": 1,
   "metadata": {
    "collapsed": true
   },
   "outputs": [],
   "source": [
    "%matplotlib inline\n",
    "\n",
    "import matplotlib\n",
    "import autograd.numpy as np\n",
    "import matplotlib.pyplot as plt\n",
    "import random\n",
    "import math\n",
    "from autograd import grad\n",
    "\n",
    "def generateChevronData():\n",
    "    xBounds = [-50, 50]\n",
    "    yBounds = [-50, 50]\n",
    "    totalPoints = 100\n",
    "    \n",
    "    points = []\n",
    "    targets = []\n",
    "    \n",
    "    for i in range(0, totalPoints):\n",
    "        x = random.randint(xBounds[0], xBounds[1])\n",
    "        y = random.randint(yBounds[0], yBounds[1])\n",
    "        \n",
    "        if x >= y and x <= -y:\n",
    "            points.append([x/50.0,y/50.0])\n",
    "            targets.append(0)\n",
    "        else:\n",
    "            points.append([x/50.0,y/50.0])\n",
    "            targets.append(1)\n",
    "        \n",
    "    return np.array(points), np.array(targets)\n",
    "    \n",
    "def plotScatter(points):\n",
    "    xs = [x[0] for x in points]\n",
    "    ys = [y[1] for y in points]\n",
    "    \n",
    "    plt.scatter(xs, ys)"
   ]
  },
  {
   "cell_type": "code",
   "execution_count": 2,
   "metadata": {
    "collapsed": true
   },
   "outputs": [],
   "source": [
    "def sigmoid(phi):\n",
    "    return 1.0/(1.0 + np.exp(-phi))\n",
    "\n",
    "def MSE(weights):\n",
    "    predictions = logisticPrediction(weights, points)\n",
    "    w = np.full((len(predictions)), np.log(1/2)) # CONSTANT\n",
    "    r = responsibility(weights, points)\n",
    "#     print(r)\n",
    "    return -np.sum( r * ((targets*np.log(predictions) + (1-targets)*np.log(1-predictions))) + (1-r) * w)\n",
    "\n",
    "def logisticPrediction(weights, p):\n",
    "    return np.array(list(map(lambda x: predict(weights, x), p))) \n",
    "    \n",
    "def predict(weights, inputs):\n",
    "    n = np.array([weights[0], weights[1]])\n",
    "    i = np.array([weights[2] - inputs[0], weights[3] - inputs[1]])\n",
    "    return sigmoid(np.dot(n, i))\n",
    "\n",
    "def responsibility(weights, points):\n",
    "    r = weights[4]\n",
    "    a = np.array([weights[2], weights[3]])\n",
    "    \n",
    "    dif = np.array(list(map(lambda x: x - a, points)))\n",
    "    s = np.array(list(map(lambda x: np.sum(np.power(x, 2)), dif)))\n",
    "    d = np.sqrt(s)\n",
    "    \n",
    "    return 1/(1 + np.power(np.e, (10*(d - r))))"
   ]
  },
  {
   "cell_type": "code",
   "execution_count": 3,
   "metadata": {},
   "outputs": [],
   "source": [
    "def computeGradient(weights, example, target):\n",
    "    prediction = predict(weights, example)\n",
    "    r = responsibility(weights, [example])[0]\n",
    "    dE_dO = computeErrorDifferential(r, prediction, target)\n",
    "    dE_dr = computeResponsibilityDifferential(weights, example)\n",
    "    \n",
    "    dO_dZ = prediction * (1-prediction)\n",
    "    \n",
    "#     dZ_d0 = example[0]\n",
    "    dZ_d1 = (weights[2] - example[0])\n",
    "    dZ_d2 = (weights[3] - example[1])\n",
    "    dZ_d3 = weights[0]\n",
    "    dZ_d4 = weights[1]\n",
    "    \n",
    "    dE_dZ = dE_dO * dO_dZ\n",
    "    \n",
    "    grad = np.zeros(len(weights))#[0.0, 0.0, 0.0]\n",
    "#     grad[0] = dZ_d0 * dE_dZ\n",
    "    grad[0] = dZ_d1 * dE_dZ\n",
    "    grad[1] = dZ_d2 * dE_dZ\n",
    "    grad[2] = dZ_d3 * dE_dZ\n",
    "    grad[3] = dZ_d4 * dE_dZ\n",
    "    grad[4] = -dE_dr * ((target*np.log(prediction) + (1-target)*np.log(1-prediction)) - np.log(1/2))\n",
    "#     print(((target*np.log(prediction) + (1-target)*np.log(1-prediction))))\n",
    "    \n",
    "    return grad\n",
    "\n",
    "def computeErrorDifferential(r, prediction, target):\n",
    "    return -r * (target - prediction)/(prediction - prediction**2)\n",
    "\n",
    "def computeResponsibilityDifferential(weights, example):\n",
    "    r = weights[4]\n",
    "    a = np.array([weights[2], weights[3]])\n",
    "    \n",
    "    dif = example - a\n",
    "    s = np.sum(np.power(dif, 2))\n",
    "    d = np.sqrt(s)\n",
    "    \n",
    "    return (10 * np.power(np.e, (d + r)))/np.power(np.power(np.e, 10*d) + np.power(np.e, 10*r), 2)"
   ]
  },
  {
   "cell_type": "code",
   "execution_count": 8,
   "metadata": {
    "collapsed": true
   },
   "outputs": [],
   "source": [
    "def trainBoundaryHunter():\n",
    "    weights = np.array([0.0, 0.0, 0.0, 0.0, 0.3])\n",
    "    \n",
    "    print(\"Initial Loss: \", MSE(weights))\n",
    "    for i in range(0, 10000):\n",
    "        weights = computeStep(weights)\n",
    "    \n",
    "        if i % 1000 == 0:\n",
    "            print(\"Loss [i = \" + str(i) + \"]: \" + str(MSE(weights)))\n",
    "            print(weights)\n",
    "            \n",
    "    print(\"Trained Loss: \", MSE(weights))    \n",
    "    print(\"Weights: \", weights)\n",
    "    return weights\n",
    "\n",
    "def computeStep(weights):\n",
    "    totalG = np.zeros(len(weights))\n",
    "    totalE = 0\n",
    "    for i in range(0, len(points)):\n",
    "        g = computeGradient(weights, points[i], targets[i])\n",
    "        totalG += g     \n",
    "        \n",
    "#     totalG = totalG * (1/len(points))\n",
    "    \n",
    "    weights -= totalG * 0.01\n",
    "    return weights"
   ]
  },
  {
   "cell_type": "code",
   "execution_count": 9,
   "metadata": {},
   "outputs": [
    {
     "name": "stdout",
     "output_type": "stream",
     "text": [
      "Type 0:  35\n",
      "Type 1:  65\n",
      "Initial Loss:  69.314718056\n",
      "Loss [i = 0]: 69.310367697\n",
      "[-0.00215269 -0.00623677  0.          0.          0.3       ]\n",
      "Loss [i = 1000]: 64.0775434397\n",
      "[-0.23490637 -5.56676691 -0.04157897 -0.19374644  0.43118131]\n",
      "Loss [i = 2000]: 60.6766641419\n",
      "[ 0.03261602 -8.46412688 -0.04219063 -0.23565505  0.50256874]\n",
      "Loss [i = 3000]: 62.4852595202\n",
      "[-0.03957522 -9.12175658 -0.04017502 -0.07375359  0.53985209]\n",
      "Loss [i = 4000]: 61.405213166\n",
      "[-0.05322748 -8.62387143 -0.04038251 -0.08981297  0.56261097]\n",
      "Loss [i = 5000]: 60.9517784478\n",
      "[-0.07992897 -8.30581967 -0.03833756 -0.0885642   0.57994937]\n",
      "Loss [i = 6000]: 60.6336692851\n",
      "[-0.14368232 -8.06027532 -0.03227476 -0.08593014  0.5938009 ]\n",
      "Loss [i = 7000]: 60.4054332415\n",
      "[-0.25836958 -7.85477566 -0.02025348 -0.08276289  0.60527437]\n",
      "Loss [i = 8000]: 60.2413775101\n",
      "[ -4.50008181e-01  -7.66769093e+00   1.12242889e-03  -7.93054834e-02\n",
      "   6.15032491e-01]\n",
      "Loss [i = 9000]: 60.1073749603\n",
      "[-0.77614455 -7.47807308  0.03918125 -0.0755839   0.62350662]\n",
      "Trained Loss:  57.8102052394\n",
      "Weights:  [-1.3732981  -7.24966614  0.03923727 -0.4547866   0.63101011]\n"
     ]
    },
    {
     "data": {
      "image/png": "[encoded data removed]",
      "text/plain": [
       "<matplotlib.figure.Figure at 0x3d6b2e8>"
      ]
     },
     "metadata": {},
     "output_type": "display_data"
    }
   ],
   "source": [
    "random.seed(1234)\n",
    "points, targets = generateChevronData()\n",
    "\n",
    "plt.axis([-1.5, 1.5, -1.5, 1.5])\n",
    "\n",
    "# Plot points on graph\n",
    "c1 = []\n",
    "c2 = []\n",
    "\n",
    "for i in range(0, len(points)):\n",
    "    if targets[i] == 0:\n",
    "        c1.append(points[i])\n",
    "    else:\n",
    "        c2.append(points[i])\n",
    "\n",
    "print(\"Type 0: \", len(c1))\n",
    "print(\"Type 1: \", len(c2))\n",
    "        \n",
    "plotScatter(c1)\n",
    "plotScatter(c2)\n",
    "\n",
    "weights = trainBoundaryHunter()\n",
    "\n",
    "# plt.scatter(weights[1], weights[2])\n",
    "plt.scatter(weights[2], weights[3])\n",
    "\n",
    "n = np.array([weights[0] * weights[2] + weights[1] * weights[3], \n",
    "              -weights[0], \n",
    "              -weights[1]])\n",
    "\n",
    "byas = -1 * n[0]/n[2]\n",
    "Xcoef = -1 * n[1]/n[2]\n",
    "\n",
    "x = np.linspace(-1.5, 1.5, 500)\n",
    "y = np.linspace(-1.5, 1.5, 500)\n",
    "X, Y = np.meshgrid(x,y)\n",
    "F = ((X - weights[2]))**2 + ((Y - weights[3]))**2 - weights[4]**2\n",
    "plt.contour(X,Y,F,[0])\n",
    "\n",
    "# print()\n",
    "# print(n)\n",
    "# print(\"\\nLine\")\n",
    "# print(\"B: \" + str(byas))\n",
    "# print(\"XCoef: \" + str(Xcoef))\n",
    "\n",
    "plt.plot([-1.0, 1.0], [-1*Xcoef + byas, Xcoef + byas], 'k-')\n",
    "plt.gca().set_aspect('equal')\n",
    "\n",
    "plt.show()"
   ]
  },
  {
   "cell_type": "code",
   "execution_count": null,
   "metadata": {
    "collapsed": true
   },
   "outputs": [],
   "source": []
  },
  {
   "cell_type": "code",
   "execution_count": null,
   "metadata": {
    "collapsed": true
   },
   "outputs": [],
   "source": []
  },
  {
   "cell_type": "code",
   "execution_count": null,
   "metadata": {
    "collapsed": true
   },
   "outputs": [],
   "source": []
  }
 ],
 "metadata": {
  "kernelspec": {
   "display_name": "Python 3",
   "language": "python",
   "name": "python3"
  },
  "language_info": {
   "codemirror_mode": {
    "name": "ipython",
    "version": 3
   },
   "file_extension": ".py",
   "mimetype": "text/x-python",
   "name": "python",
   "nbconvert_exporter": "python",
   "pygments_lexer": "ipython3",
   "version": "3.6.0"
  }
 },
 "nbformat": 4,
 "nbformat_minor": 2
}
