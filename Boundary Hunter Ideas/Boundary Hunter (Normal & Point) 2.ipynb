{
 "cells": [
  {
   "cell_type": "code",
   "execution_count": 1,
   "metadata": {
    "collapsed": true
   },
   "outputs": [],
   "source": [
    "%matplotlib inline\n",
    "\n",
    "import matplotlib\n",
    "import autograd.numpy as np\n",
    "import matplotlib.pyplot as plt\n",
    "import random\n",
    "import math\n",
    "from autograd import grad\n",
    "\n",
    "def generateChevronData():\n",
    "    xBounds = [-50, 50]\n",
    "    yBounds = [-50, 50]\n",
    "    totalPoints = 100\n",
    "    \n",
    "    points = []\n",
    "    targets = []\n",
    "    \n",
    "    for i in range(0, totalPoints):\n",
    "        x = random.randint(xBounds[0], xBounds[1])\n",
    "        y = random.randint(yBounds[0], yBounds[1])\n",
    "        \n",
    "        if x >= y and x <= -y:\n",
    "            points.append([1, x/50.0,y/50.0])\n",
    "            targets.append(0)\n",
    "        else:\n",
    "            points.append([1, x/50.0,y/50.0])\n",
    "            targets.append(1)\n",
    "        \n",
    "    return np.array(points), np.array(targets)\n",
    "    \n",
    "def plotScatter(points):\n",
    "    xs = [x[1] for x in points]\n",
    "    ys = [y[2] for y in points]\n",
    "    \n",
    "    plt.scatter(xs, ys)"
   ]
  },
  {
   "cell_type": "code",
   "execution_count": 8,
   "metadata": {
    "collapsed": true
   },
   "outputs": [],
   "source": [
    "def sigmoid(phi):\n",
    "    return 1.0/(1.0 + np.exp(-phi))\n",
    "\n",
    "def MSE(weights):\n",
    "    predictions = logisticPrediction(weights, points)\n",
    "    w = np.full((len(predictions)), np.log(1/2))\n",
    "    r = np.full((len(predictions)), 1.0)\n",
    "    return -np.sum( r * ((targets*np.log(predictions) + (1-targets)*np.log(1-predictions))) + (1-r) * w)\n",
    "\n",
    "def logisticPrediction(weights, p):\n",
    "    return np.array(list(map(lambda x: predict(weights, x), p))) \n",
    "    \n",
    "def predict(weights, inputs):\n",
    "    n = np.array([weights[0], weights[1]])\n",
    "    i = np.array([weights[2] - inputs[1], weights[3] - inputs[2]])\n",
    "#     n = np.array([weights[0], weights[1] - weights[3], weights[2] - weights[4]])\n",
    "    return sigmoid(np.dot(n, i))"
   ]
  },
  {
   "cell_type": "code",
   "execution_count": 9,
   "metadata": {
    "collapsed": true
   },
   "outputs": [],
   "source": [
    "def computeGradient(weights, example, target):\n",
    "    prediction = predict(weights, example)\n",
    "    dE_dO = computeErrorDifferential(prediction, target)\n",
    "    \n",
    "    dO_dZ = prediction * (1-prediction)\n",
    "    \n",
    "#     dZ_d0 = example[0]\n",
    "    dZ_d1 = (weights[2] - example[1])\n",
    "    dZ_d2 = (weights[3] - example[2])\n",
    "    dZ_d3 = weights[0]\n",
    "    dZ_d4 = weights[1]\n",
    "    \n",
    "    dE_dZ = dE_dO * dO_dZ\n",
    "    \n",
    "    grad = np.zeros(len(weights))#[0.0, 0.0, 0.0]\n",
    "#     grad[0] = dZ_d0 * dE_dZ\n",
    "    grad[0] = dZ_d1 * dE_dZ\n",
    "    grad[1] = dZ_d2 * dE_dZ\n",
    "    grad[2] = dZ_d3 * dE_dZ\n",
    "    grad[3] = dZ_d4 * dE_dZ\n",
    "    \n",
    "    return grad\n",
    "\n",
    "def computeErrorDifferential(prediction, target):\n",
    "    return -(target - prediction)/(prediction - prediction**2)"
   ]
  },
  {
   "cell_type": "code",
   "execution_count": 10,
   "metadata": {
    "collapsed": true
   },
   "outputs": [],
   "source": [
    "def trainBoundaryHunter():\n",
    "    weights = np.array([0.0, 0.0, 0.0, 0.0])\n",
    "    \n",
    "    print(\"Initial Loss: \", MSE(weights))\n",
    "    for i in range(0, 10000):\n",
    "        weights = computeStep(weights)\n",
    "    \n",
    "        if i % 1000 == 0:\n",
    "            print(\"Loss [i = \" + str(i) + \"]: \" + str(MSE(weights)))\n",
    "            print(weights)\n",
    "            \n",
    "    print(\"Trained Loss: \", MSE(weights))    \n",
    "    print(\"Weights: \", weights)\n",
    "    return weights\n",
    "\n",
    "def computeStep(weights):\n",
    "    totalG = np.zeros(len(weights))\n",
    "    totalE = 0\n",
    "    for i in range(0, len(points)):\n",
    "        g = computeGradient(weights, points[i], targets[i])\n",
    "        totalG += g     \n",
    "        \n",
    "#     totalG = totalG * (1/len(points))\n",
    "    \n",
    "    weights -= totalG * 0.001\n",
    "    return weights"
   ]
  },
  {
   "cell_type": "code",
   "execution_count": 11,
   "metadata": {},
   "outputs": [
    {
     "name": "stdout",
     "output_type": "stream",
     "text": [
      "Type 0:  35\n",
      "Type 1:  65\n",
      "Initial Loss:  69.314718056\n",
      "\n",
      "Loss Before: 69.314718056\n",
      "Loss After [i = 0]: 68.9889247372\n",
      "[-0.00158 -0.01802  0.       0.     ]\n",
      "\n",
      "Loss Before: 27.3676190864\n",
      "Loss After [i = 1000]: 27.3655550506\n",
      "[-0.91881008 -4.55299621 -0.04493059 -0.43901215]\n",
      "\n",
      "Loss Before: 26.479698099\n",
      "Loss After [i = 2000]: 26.4793681755\n",
      "[-1.19177789 -5.42107261 -0.0437357  -0.43332278]\n",
      "\n",
      "Loss Before: 26.3036472808\n",
      "Loss After [i = 3000]: 26.303563446\n",
      "[-1.32084335 -5.81169791 -0.04336549 -0.43166597]\n",
      "\n",
      "Loss Before: 26.2551857675\n",
      "Loss After [i = 4000]: 26.2551604312\n",
      "[-1.38979369 -6.01727926 -0.04319824 -0.43093591]\n",
      "\n",
      "Loss Before: 26.2399707886\n",
      "Loss After [i = 5000]: 26.2399624698\n",
      "[-1.42872043 -6.13262677 -0.04311132 -0.43056119]\n",
      "\n",
      "Loss Before: 26.2348731253\n",
      "Loss After [i = 6000]: 26.234870271\n",
      "[-1.45133644 -6.199439   -0.04306303 -0.43035443]\n",
      "\n",
      "Loss Before: 26.2331040393\n",
      "Loss After [i = 7000]: 26.2331030354\n",
      "[-1.46468633 -6.23881282 -0.04303524 -0.4302359 ]\n",
      "\n",
      "Loss Before: 26.2324777248\n",
      "Loss After [i = 8000]: 26.2324773666\n",
      "[-1.47263865 -6.2622455  -0.04301893 -0.43016648]\n",
      "\n",
      "Loss Before: 26.2322533988\n",
      "Loss After [i = 9000]: 26.2322532699\n",
      "[-1.47740103 -6.27627104 -0.04300925 -0.43012532]\n",
      "Trained Loss:  26.2321724992\n",
      "Weights:  [-1.4802599  -6.28468792 -0.04300347 -0.43010076]\n"
     ]
    },
    {
     "data": {
      "image/png": "[encoded data removed]",
      "text/plain": [
       "<matplotlib.figure.Figure at 0x3d9e368>"
      ]
     },
     "metadata": {},
     "output_type": "display_data"
    }
   ],
   "source": [
    "random.seed(1234)\n",
    "points, targets = generateChevronData()\n",
    "\n",
    "plt.axis([-1.5, 1.5, -1.5, 1.5])\n",
    "\n",
    "# Plot points on graph\n",
    "c1 = []\n",
    "c2 = []\n",
    "\n",
    "for i in range(0, len(points)):\n",
    "    if targets[i] == 0:\n",
    "        c1.append(points[i])\n",
    "    else:\n",
    "        c2.append(points[i])\n",
    "\n",
    "print(\"Type 0: \", len(c1))\n",
    "print(\"Type 1: \", len(c2))\n",
    "        \n",
    "plotScatter(c1)\n",
    "plotScatter(c2)\n",
    "\n",
    "weights = trainBoundaryHunter()\n",
    "\n",
    "# plt.scatter(weights[1], weights[2])\n",
    "plt.scatter(weights[2], weights[3])\n",
    "\n",
    "n = np.array([weights[0] * weights[2] + weights[1] * weights[3], \n",
    "              -weights[0], \n",
    "              -weights[1]])\n",
    "\n",
    "byas = -1 * n[0]/n[2]\n",
    "Xcoef = -1 * n[1]/n[2]\n",
    "\n",
    "# print()\n",
    "# print(n)\n",
    "# print(\"\\nLine\")\n",
    "# print(\"B: \" + str(byas))\n",
    "# print(\"XCoef: \" + str(Xcoef))\n",
    "\n",
    "plt.plot([-1.0, 1.0], [-1*Xcoef + byas, Xcoef + byas], 'k-')\n",
    "plt.gca().set_aspect('equal')\n",
    "\n",
    "plt.show()"
   ]
  },
  {
   "cell_type": "code",
   "execution_count": null,
   "metadata": {
    "collapsed": true
   },
   "outputs": [],
   "source": []
  },
  {
   "cell_type": "code",
   "execution_count": null,
   "metadata": {
    "collapsed": true
   },
   "outputs": [],
   "source": []
  },
  {
   "cell_type": "code",
   "execution_count": null,
   "metadata": {
    "collapsed": true
   },
   "outputs": [],
   "source": []
  }
 ],
 "metadata": {
  "kernelspec": {
   "display_name": "Python 3",
   "language": "python",
   "name": "python3"
  },
  "language_info": {
   "codemirror_mode": {
    "name": "ipython",
    "version": 3
   },
   "file_extension": ".py",
   "mimetype": "text/x-python",
   "name": "python",
   "nbconvert_exporter": "python",
   "pygments_lexer": "ipython3",
   "version": "3.6.0"
  }
 },
 "nbformat": 4,
 "nbformat_minor": 2
}
