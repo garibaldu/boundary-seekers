{
 "cells": [
  {
   "cell_type": "code",
   "execution_count": 16,
   "metadata": {
    "collapsed": true
   },
   "outputs": [],
   "source": [
    "%matplotlib inline\n",
    "\n",
    "import matplotlib\n",
    "import autograd.numpy as np\n",
    "import matplotlib.pyplot as plt\n",
    "import random\n",
    "import math\n",
    "from autograd import grad\n",
    "\n",
    "def generateChevronData():\n",
    "    xBounds = [-50, 50]\n",
    "    yBounds = [-50, 50]\n",
    "    totalPoints = 100\n",
    "    \n",
    "    points = []\n",
    "    targets = []\n",
    "    \n",
    "    for i in range(0, totalPoints):\n",
    "        x = random.randint(xBounds[0], xBounds[1])\n",
    "        y = random.randint(yBounds[0], yBounds[1])\n",
    "        \n",
    "        if x >= y and x <= -y:\n",
    "            points.append([1, x/50.0,y/50.0])\n",
    "            targets.append(0)\n",
    "        else:\n",
    "            points.append([1, x/50.0,y/50.0])\n",
    "            targets.append(1)\n",
    "        \n",
    "    return np.array(points), np.array(targets)\n",
    "    \n",
    "def plotScatter(points):\n",
    "    xs = [x[1] for x in points]\n",
    "    ys = [y[2] for y in points]\n",
    "    \n",
    "    plt.scatter(xs, ys)"
   ]
  },
  {
   "cell_type": "code",
   "execution_count": 17,
   "metadata": {
    "collapsed": true
   },
   "outputs": [],
   "source": [
    "def sigmoid(phi):\n",
    "    return 1.0/(1.0 + np.exp(-phi))\n",
    "\n",
    "def loss(weights):\n",
    "    predictions = logisticPrediction(weights, points)\n",
    "    responsibility = np.full((len(predictions)), 1.0)\n",
    "    w = np.full((len(predictions)), np.log(1/2))\n",
    "    return -np.sum(responsibility * (targets*np.log(predictions) + (1-targets) * np.log(1-predictions)) + (1-responsibility) * w)\n",
    "\n",
    "def logisticPrediction(weights, p):\n",
    "    return np.array(list(map(lambda x: predict(weights, x), p))) \n",
    "    \n",
    "def predict(weights, inputs):\n",
    "    n = np.array([weights[0], weights[1]])\n",
    "    i = np.array([weights[2] - inputs[1], weights[3] - inputs[2]])\n",
    "    return sigmoid(np.dot(n, i))"
   ]
  },
  {
   "cell_type": "code",
   "execution_count": 18,
   "metadata": {
    "collapsed": true
   },
   "outputs": [],
   "source": [
    "def computeGradient(weights, example, target):\n",
    "    prediction = predict(weights, example)\n",
    "    dE_dO = computeErrorDifferential(prediction, target)\n",
    "    \n",
    "    dO_dZ = prediction * (1-prediction)\n",
    "    \n",
    "#     dZ_d0 = example[0]\n",
    "    dZ_d1 = (weights[2] - example[1])\n",
    "    dZ_d2 = (weights[3] - example[2])\n",
    "    dZ_d3 = weights[0]\n",
    "    dZ_d4 = weights[1]\n",
    "    \n",
    "    dE_dZ = dE_dO * dO_dZ\n",
    "    \n",
    "    grad = np.zeros(len(weights))#[0.0, 0.0, 0.0]\n",
    "#     grad[0] = dZ_d0 * dE_dZ\n",
    "    grad[0] = dZ_d1 * dE_dZ\n",
    "    grad[1] = dZ_d2 * dE_dZ\n",
    "    grad[2] = dZ_d3 * dE_dZ\n",
    "    grad[3] = dZ_d4 * dE_dZ\n",
    "    \n",
    "    return grad\n",
    "\n",
    "def computeErrorDifferential(prediction, target):\n",
    "    return -(target - prediction)"
   ]
  },
  {
   "cell_type": "code",
   "execution_count": 19,
   "metadata": {
    "collapsed": true
   },
   "outputs": [],
   "source": [
    "def trainBoundaryHunter():\n",
    "    weights = np.array([0.0, 0.0, 0.0, 0.0])\n",
    "    \n",
    "    print(\"Initial Loss: \", loss(weights))\n",
    "    for i in range(0, 10000):\n",
    "        weights = computeStep(weights)\n",
    "    \n",
    "        if i % 1000 == 0:\n",
    "            print(\"Loss [i = \" + str(i) + \"]: \" + str(loss(weights)))\n",
    "            print(weights)\n",
    "            \n",
    "    print(\"Trained Loss: \", loss(weights))    \n",
    "    print(\"Weights: \", weights)\n",
    "    return weights\n",
    "\n",
    "def computeStep(weights):\n",
    "    totalG = np.zeros(len(weights))\n",
    "    totalE = 0\n",
    "    for i in range(0, len(points)):\n",
    "        g = computeGradient(weights, points[i], targets[i])\n",
    "        totalG += g     \n",
    "        \n",
    "    \n",
    "    weights -= totalG * 0.01\n",
    "    return weights"
   ]
  },
  {
   "cell_type": "code",
   "execution_count": 20,
   "metadata": {},
   "outputs": [
    {
     "name": "stdout",
     "output_type": "stream",
     "text": [
      "Type 0:  35\n",
      "Type 1:  65\n",
      "Initial Loss:  69.314718056\n",
      "\n",
      "Loss Before: 69.314718056\n",
      "Loss After [i = 0]: 68.5055724037\n",
      "[-0.00395 -0.04505  0.       0.     ]\n",
      "\n",
      "Loss Before: 26.9728369921\n",
      "Loss After [i = 1000]: 26.9715905958\n",
      "[-1.20492727 -4.91751613 -0.04069226 -0.40726579]\n",
      "\n",
      "Loss Before: 26.4324595149\n",
      "Loss After [i = 2000]: 26.4322675445\n",
      "[-1.46402692 -5.71274349 -0.04051702 -0.40656406]\n",
      "\n",
      "Loss Before: 26.3426804432\n",
      "Loss After [i = 3000]: 26.3426525071\n",
      "[-1.59270233 -6.12357861 -0.04049718 -0.40648712]\n",
      "\n",
      "Loss Before: 26.3379423771\n",
      "Loss After [i = 4000]: 26.3379521292\n",
      "[-1.66916998 -6.37297355 -0.04049606 -0.40648281]\n",
      "\n",
      "Loss Before: 26.3527540997\n",
      "Loss After [i = 5000]: 26.3527715981\n",
      "[-1.71844498 -6.53574047 -0.04049808 -0.40649052]\n",
      "\n",
      "Loss Before: 26.3702954561\n",
      "Loss After [i = 6000]: 26.3703123757\n",
      "[-1.75165442 -6.6463408  -0.04050036 -0.40649917]\n",
      "\n",
      "Loss Before: 26.3859155037\n",
      "Loss After [i = 7000]: 26.385929688\n",
      "[-1.77466128 -6.72338484 -0.04050229 -0.40650651]\n",
      "\n",
      "Loss Before: 26.3986064738\n",
      "Loss After [i = 8000]: 26.3986177025\n",
      "[-1.79088847 -6.77793206 -0.04050382 -0.40651227]\n",
      "\n",
      "Loss Before: 26.4085024757\n",
      "Loss After [i = 9000]: 26.4085111155\n",
      "[-1.80247349 -6.81697877 -0.04050497 -0.40651665]\n",
      "Trained Loss:  26.4160539599\n",
      "Weights:  [-1.8108071  -6.84512015 -0.04050584 -0.40651993]\n",
      "\n",
      "[ 2.85602606  1.8108071   6.84512015]\n",
      "\n",
      "Line\n",
      "B: -0.417235343342\n",
      "XCoef: -0.264539855801\n"
     ]
    },
    {
     "data": {
      "image/png": "[encoded data removed]",
      "text/plain": [
       "<matplotlib.figure.Figure at 0x4db1688>"
      ]
     },
     "metadata": {},
     "output_type": "display_data"
    }
   ],
   "source": [
    "random.seed(1234)\n",
    "points, targets = generateChevronData()\n",
    "\n",
    "plt.axis([-1.5, 1.5, -1.5, 1.5])\n",
    "\n",
    "# Plot points on graph\n",
    "c1 = []\n",
    "c2 = []\n",
    "\n",
    "for i in range(0, len(points)):\n",
    "    if targets[i] == 0:\n",
    "        c1.append(points[i])\n",
    "    else:\n",
    "        c2.append(points[i])\n",
    "\n",
    "print(\"Type 0: \", len(c1))\n",
    "print(\"Type 1: \", len(c2))\n",
    "        \n",
    "plotScatter(c1)\n",
    "plotScatter(c2)\n",
    "\n",
    "weights = trainBoundaryHunter()\n",
    "\n",
    "# plt.scatter(weights[1], weights[2])\n",
    "plt.scatter(weights[2], weights[3])\n",
    "\n",
    "n = np.array([weights[0] * weights[2] + weights[1] * weights[3], \n",
    "              -weights[0], \n",
    "              -weights[1]])\n",
    "\n",
    "byas = -1 * n[0]/n[2]\n",
    "Xcoef = -1 * n[1]/n[2]\n",
    "\n",
    "print()\n",
    "print(n)\n",
    "print(\"\\nLine\")\n",
    "print(\"B: \" + str(byas))\n",
    "print(\"XCoef: \" + str(Xcoef))\n",
    "\n",
    "plt.plot([-1.0, 1.0], [-1*Xcoef + byas, Xcoef + byas], 'k-')\n",
    "plt.gca().set_aspect('equal')\n",
    "\n",
    "plt.show()"
   ]
  },
  {
   "cell_type": "code",
   "execution_count": null,
   "metadata": {
    "collapsed": true
   },
   "outputs": [],
   "source": []
  },
  {
   "cell_type": "code",
   "execution_count": null,
   "metadata": {
    "collapsed": true
   },
   "outputs": [],
   "source": []
  },
  {
   "cell_type": "code",
   "execution_count": null,
   "metadata": {
    "collapsed": true
   },
   "outputs": [],
   "source": []
  }
 ],
 "metadata": {
  "kernelspec": {
   "display_name": "Python 3",
   "language": "python",
   "name": "python3"
  },
  "language_info": {
   "codemirror_mode": {
    "name": "ipython",
    "version": 3
   },
   "file_extension": ".py",
   "mimetype": "text/x-python",
   "name": "python",
   "nbconvert_exporter": "python",
   "pygments_lexer": "ipython3",
   "version": "3.6.0"
  }
 },
 "nbformat": 4,
 "nbformat_minor": 2
}
