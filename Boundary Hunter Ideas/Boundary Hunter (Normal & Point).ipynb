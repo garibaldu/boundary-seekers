{
 "cells": [
  {
   "cell_type": "code",
   "execution_count": 14,
   "metadata": {
    "collapsed": false
   },
   "outputs": [],
   "source": [
    "%matplotlib inline\n",
    "\n",
    "import matplotlib\n",
    "import autograd.numpy as np\n",
    "import matplotlib.pyplot as plt\n",
    "import random\n",
    "import math\n",
    "from autograd import grad\n",
    "\n",
    "def generateChevronData():\n",
    "    xBounds = [-50, 50]\n",
    "    yBounds = [-50, 50]\n",
    "    totalPoints = 100\n",
    "    \n",
    "    points = []\n",
    "    targets = []\n",
    "    \n",
    "    for i in range(0, totalPoints):\n",
    "        x = random.randint(xBounds[0], xBounds[1])\n",
    "        y = random.randint(yBounds[0], yBounds[1])\n",
    "        \n",
    "        if x >= y and x <= -y:\n",
    "            points.append([1, x/50.0,y/50.0])\n",
    "            targets.append(0)\n",
    "        else:\n",
    "            points.append([1, x/50.0,y/50.0])\n",
    "            targets.append(1)\n",
    "        \n",
    "    return np.array(points), np.array(targets)\n",
    "    \n",
    "def plotScatter(points):\n",
    "    xs = [x[1] for x in points]\n",
    "    ys = [y[2] for y in points]\n",
    "    \n",
    "    plt.scatter(xs, ys)"
   ]
  },
  {
   "cell_type": "code",
   "execution_count": 21,
   "metadata": {
    "collapsed": true
   },
   "outputs": [],
   "source": [
    "def sigmoid(phi):\n",
    "    return 1.0/(1.0 + np.exp(-phi))\n",
    "\n",
    "def MSE(weights):\n",
    "    localPoints = np.array(list(map(lambda x: (x[1] - weights[3])**2 + (x[2] - weights[4])**2 <= radius**2, points)))\n",
    "    predictions = logisticPrediction(weights, points)\n",
    "    return 1.0/2.0 * np.sum(np.power((targets - predictions), 2))\n",
    "\n",
    "def logisticPrediction(weights, p):\n",
    "    return np.array(list(map(lambda x: predict(weights, x), p))) \n",
    "    \n",
    "def predict(weights, inputs):\n",
    "    n = np.array([weights[0], weights[1], weights[2]])\n",
    "    i = np.array([1, weights[3] - inputs[1], weights[4] - inputs[2]])\n",
    "#     n = np.array([weights[0], weights[1] - weights[3], weights[2] - weights[4]])\n",
    "    return sigmoid(np.dot(n, i))"
   ]
  },
  {
   "cell_type": "code",
   "execution_count": 22,
   "metadata": {
    "collapsed": true
   },
   "outputs": [],
   "source": [
    "def computeGradient(weights, example, target):\n",
    "    prediction = predict(weights, example)\n",
    "    dE_dO = computeErrorDifferential(prediction, target)\n",
    "    \n",
    "    dO_dZ = prediction * (1-prediction)\n",
    "    \n",
    "    dZ_d0 = example[0]\n",
    "    dZ_d1 = (weights[3] - example[1])\n",
    "    dZ_d2 = (weights[4] - example[2])\n",
    "    dZ_d3 = weights[1]\n",
    "    dZ_d4 = weights[2]\n",
    "    \n",
    "    dE_dZ = dE_dO * dO_dZ\n",
    "    \n",
    "    grad = np.zeros(len(weights))#[0.0, 0.0, 0.0]\n",
    "    grad[0] = dZ_d0 * dE_dZ\n",
    "    grad[1] = dZ_d1 * dE_dZ\n",
    "    grad[2] = dZ_d2 * dE_dZ\n",
    "    grad[3] = dZ_d3 * dE_dZ\n",
    "    grad[4] = dZ_d4 * dE_dZ\n",
    "    \n",
    "    return grad\n",
    "\n",
    "def computeErrorDifferential(prediction, target):\n",
    "    return -(target - prediction)"
   ]
  },
  {
   "cell_type": "code",
   "execution_count": 27,
   "metadata": {
    "collapsed": false
   },
   "outputs": [],
   "source": [
    "def trainBoundaryHunter():\n",
    "    weights = np.array([0.0, 0.0, 0.0, 0.0, 0.0])\n",
    "    \n",
    "    print(\"Initial Loss: \", MSE(weights))\n",
    "    for i in range(0, 10000):\n",
    "        weights = computeStep(weights)\n",
    "    \n",
    "        if i % 1000 == 0:\n",
    "            print(\"Loss After [i = \" + str(i) + \"]: \" + str(MSE(weights)))\n",
    "            print(weights)\n",
    "            \n",
    "    print(\"Trained Loss: \", MSE(weights))    \n",
    "    print(\"Weights: \", weights)\n",
    "    return weights\n",
    "\n",
    "def computeStep(weights):\n",
    "    localPoints = np.array(list(map(lambda x: (x[1] - weights[3])**2 + (x[2] - weights[4])**2 <= radius**2, points)))\n",
    "    \n",
    "    totalG = np.zeros(len(weights))\n",
    "    for i in range(0, len(points)):\n",
    "        if not localPoints[i]:\n",
    "            continue\n",
    "        \n",
    "        g = computeGradient(weights, points[i], targets[i])\n",
    "        totalG += g     \n",
    "    \n",
    "    weights -= totalG * 0.01\n",
    "    return weights"
   ]
  },
  {
   "cell_type": "code",
   "execution_count": 28,
   "metadata": {
    "collapsed": false
   },
   "outputs": [
    {
     "name": "stdout",
     "output_type": "stream",
     "text": [
      "Type 0:  35\n",
      "Type 1:  65\n",
      "Initial Loss:  12.5\n",
      "Loss After [i = 0]: 12.4803002354\n",
      "[ 0.0025 -0.0011 -0.0022  0.      0.    ]\n",
      "Loss After [i = 1000]: 6.35147831286\n",
      "[ 0.2433982  -0.37644077 -2.04007285 -0.01966117 -0.05934831]\n",
      "Loss After [i = 2000]: 5.74395546851\n",
      "[ 0.25009513 -0.54646562 -3.44157726 -0.02255009 -0.07587561]\n",
      "Loss After [i = 3000]: 5.6696115669\n",
      "[ 0.25396456 -0.63844402 -4.43934282 -0.02484901 -0.09119059]\n",
      "Loss After [i = 4000]: 5.67956533305\n",
      "[ 0.25626818 -0.71187827 -5.26635861 -0.02639986 -0.10230702]\n",
      "Loss After [i = 5000]: 5.71304984356\n",
      "[ 0.25768174 -0.76826043 -5.97617125 -0.02744501 -0.11022892]\n",
      "Loss After [i = 6000]: 5.76851369031\n",
      "[ 0.25842149 -0.80981319 -6.60407754 -0.0280252  -0.11481846]\n",
      "Loss After [i = 7000]: 5.8073699629\n",
      "[ 0.25910063 -0.83574372 -7.18767107 -0.02858468 -0.1195125 ]\n",
      "Loss After [i = 8000]: 5.83803274322\n",
      "[ 0.25960275 -0.86426703 -7.69983504 -0.02901289 -0.12327277]\n",
      "Loss After [i = 9000]: 5.8542354055\n",
      "[ 0.26009387 -0.88556439 -8.1716426  -0.02944261 -0.12716655]\n",
      "Trained Loss:  5.8692926953\n",
      "Weights:  [ 0.26047935 -0.90165973 -8.61090772 -0.02978709 -0.13039889]\n",
      "\n",
      "[ 1.41019     0.90165973  8.61090772]\n",
      "\n",
      "Line\n",
      "B: -0.163767867959\n",
      "XCoef: -0.104711345196\n"
     ]
    },
    {
     "data": {
      "image/png": "[encoded data removed]",
      "text/plain": [
       "<matplotlib.figure.Figure at 0x1b9e9dd9860>"
      ]
     },
     "metadata": {},
     "output_type": "display_data"
    }
   ],
   "source": [
    "random.seed(1234)\n",
    "points, targets = generateChevronData()\n",
    "\n",
    "plt.axis([-1.5, 1.5, -1.5, 1.5])\n",
    "\n",
    "# Plot points on graph\n",
    "c1 = []\n",
    "c2 = []\n",
    "\n",
    "for i in range(0, len(points)):\n",
    "    if targets[i] == 0:\n",
    "        c1.append(points[i])\n",
    "    else:\n",
    "        c2.append(points[i])\n",
    "\n",
    "print(\"Type 0: \", len(c1))\n",
    "print(\"Type 1: \", len(c2))\n",
    "        \n",
    "plotScatter(c1)\n",
    "plotScatter(c2)\n",
    "\n",
    "radius = 0.4\n",
    "\n",
    "weights = trainBoundaryHunter()\n",
    "\n",
    "plt.scatter(weights[3], weights[4])\n",
    "\n",
    "n = np.array([weights[0] + weights[1] * weights[3] + weights[2] * weights[4], \n",
    "              -weights[1], \n",
    "              -weights[2]])\n",
    "\n",
    "byas = -1 * n[0]/n[2]\n",
    "Xcoef = -1 * n[1]/n[2]\n",
    "\n",
    "print()\n",
    "print(n)\n",
    "print(\"\\nLine\")\n",
    "print(\"B: \" + str(byas))\n",
    "print(\"XCoef: \" + str(Xcoef))\n",
    "\n",
    "\n",
    "x = np.linspace(-1.5, 1.5, 500)\n",
    "y = np.linspace(-1.5, 1.5, 500)\n",
    "X, Y = np.meshgrid(x,y)\n",
    "F = (X - weights[3])**2 + (Y - weights[4])**2 - radius**2\n",
    "plt.contour(X,Y,F,[0])\n",
    "\n",
    "plt.plot([-1.0, 1.0], [-1*Xcoef + byas, Xcoef + byas], 'k-')\n",
    "plt.gca().set_aspect('equal')\n",
    "\n",
    "plt.show()"
   ]
  },
  {
   "cell_type": "code",
   "execution_count": null,
   "metadata": {
    "collapsed": true
   },
   "outputs": [],
   "source": []
  },
  {
   "cell_type": "code",
   "execution_count": null,
   "metadata": {
    "collapsed": true
   },
   "outputs": [],
   "source": []
  },
  {
   "cell_type": "code",
   "execution_count": null,
   "metadata": {
    "collapsed": true
   },
   "outputs": [],
   "source": []
  }
 ],
 "metadata": {
  "kernelspec": {
   "display_name": "Python 3",
   "language": "python",
   "name": "python3"
  },
  "language_info": {
   "codemirror_mode": {
    "name": "ipython",
    "version": 3
   },
   "file_extension": ".py",
   "mimetype": "text/x-python",
   "name": "python",
   "nbconvert_exporter": "python",
   "pygments_lexer": "ipython3",
   "version": "3.6.0"
  }
 },
 "nbformat": 4,
 "nbformat_minor": 2
}
