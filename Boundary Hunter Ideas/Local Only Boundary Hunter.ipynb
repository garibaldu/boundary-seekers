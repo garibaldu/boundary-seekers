{
 "cells": [
  {
   "cell_type": "code",
   "execution_count": 42,
   "metadata": {
    "collapsed": true
   },
   "outputs": [],
   "source": [
    "%matplotlib inline\n",
    "\n",
    "import matplotlib\n",
    "import autograd.numpy as np\n",
    "import matplotlib.pyplot as plt\n",
    "import random\n",
    "import math\n",
    "from autograd import grad\n",
    "\n",
    "def generateChevronData():\n",
    "    xBounds = [-50, 50]\n",
    "    yBounds = [-50, 50]\n",
    "    totalPoints = 100\n",
    "    \n",
    "    points = []\n",
    "    targets = []\n",
    "    \n",
    "    for i in range(0, totalPoints):\n",
    "        x = random.randint(xBounds[0], xBounds[1])\n",
    "        y = random.randint(yBounds[0], yBounds[1])\n",
    "        \n",
    "        if x >= y and x <= -y:\n",
    "            points.append([1, x/50.0,y/50.0])\n",
    "            targets.append(0)\n",
    "        else:\n",
    "            points.append([1, x/50.0,y/50.0])\n",
    "            targets.append(1)\n",
    "        \n",
    "    return np.array(points), np.array(targets)\n",
    "\n",
    "def plotLine(points):\n",
    "    xs = [x[1] for x in points]\n",
    "    ys = [y[2] for y in points]\n",
    "    \n",
    "    plt.plot(xs, ys, color='r',linestyle='-')\n",
    "\n",
    "def plotScatter(points):\n",
    "    xs = [x[1] for x in points]\n",
    "    ys = [y[2] for y in points]\n",
    "    \n",
    "    plt.scatter(xs, ys)"
   ]
  },
  {
   "cell_type": "code",
   "execution_count": 43,
   "metadata": {
    "collapsed": true
   },
   "outputs": [],
   "source": [
    "def sigmoid(phi):\n",
    "    return 1.0/(1.0 + np.exp(-phi))\n",
    "\n",
    "def MSE(weights):\n",
    "    localPoints = np.array(list(map(lambda x: (x[1] - weights[1])**2 + (x[2] - weights[2])**2 <= radius**2, points)))\n",
    "    predictions = logisticPrediction(weights, points)\n",
    "    \n",
    "    s = 0\n",
    "    for i in range(0, len(points)):\n",
    "        if localPoints[i]:\n",
    "            s += (targets[i] - predictions[i])**2\n",
    "    \n",
    "    return 1.0/2.0 * s\n",
    "\n",
    "def logisticPrediction(weights, p):\n",
    "    ins = np.array(list(map(lambda x: predict(weights, x), p)))\n",
    "    return ins\n",
    "    \n",
    "def predict(weights, i):\n",
    "    return sigmoid((i[2] - weights[2]) - weights[0] * (i[1] - weights[1]))"
   ]
  },
  {
   "cell_type": "code",
   "execution_count": 44,
   "metadata": {
    "collapsed": true
   },
   "outputs": [],
   "source": [
    "def computeGradient(weights, example, target):\n",
    "    prediction = predict(weights, example)\n",
    "    E = -np.log(target * prediction + (1-target) * (1-prediction))\n",
    "    dE_dO = computeErrorDifferential(prediction, target)\n",
    "    \n",
    "    dO_dZ = prediction * (1-prediction)\n",
    "    \n",
    "    dZ_dy = -1\n",
    "    dZ_dm = weights[1] - example[1]\n",
    "    dZ_dx = weights[0]\n",
    "    \n",
    "    dE_dZ = dE_dO * dO_dZ\n",
    "    \n",
    "    grad = np.zeros(3)\n",
    "    grad[0] = dZ_dm * dE_dZ\n",
    "    grad[1] = dZ_dx * dE_dZ\n",
    "    grad[2] = dZ_dy * dE_dZ\n",
    "    \n",
    "    return grad, E\n",
    "\n",
    "def computeErrorDifferential(prediction, target):\n",
    "    return -(target - prediction)"
   ]
  },
  {
   "cell_type": "code",
   "execution_count": 51,
   "metadata": {
    "collapsed": false
   },
   "outputs": [],
   "source": [
    "def trainBoundaryHunter():\n",
    "    iPoints = []\n",
    "    weights = np.array([0.0, 0.5, -1.0])\n",
    "    \n",
    "    print(\"Initial Loss: \", MSE(weights))\n",
    "    for i in range(0, 10000):\n",
    "        if i % 1000 == 0:\n",
    "            iPoints.append(np.copy(weights))\n",
    "\n",
    "        weights, error = computeStep(weights)\n",
    "    \n",
    "        if i % 1000 == 0:\n",
    "            print(\"Loss After [i = \" + str(i) + \"]: \" + str(MSE(weights)))\n",
    "            print(weights)\n",
    "            \n",
    "    print(\"Trained Loss: \", MSE(weights))    \n",
    "    print(\"Weights: \", weights)\n",
    "    return weights, iPoints\n",
    "\n",
    "def computeStep(weights):\n",
    "    totalG = np.zeros(3)\n",
    "    totalE = 0\n",
    "    \n",
    "    localPoints = np.array(list(map(lambda x: (x[1] - weights[1])**2 + (x[2] - weights[2])**2 <= radius**2, points)))\n",
    "\n",
    "    \n",
    "    for i in range(0, len(points)):\n",
    "        if not localPoints[i]:\n",
    "            continue\n",
    "        \n",
    "        g, error = computeGradient(weights, points[i], targets[i])\n",
    "        totalE += error\n",
    "        totalG += g     \n",
    "        \n",
    "    totalG = totalG * (1/len(points))\n",
    "    totalE = totalE * (1/len(points))\n",
    "        \n",
    "    weights -= totalG * 0.01\n",
    "    return weights, totalE"
   ]
  },
  {
   "cell_type": "code",
   "execution_count": 52,
   "metadata": {
    "collapsed": false
   },
   "outputs": [
    {
     "name": "stdout",
     "output_type": "stream",
     "text": [
      "Type 0:  35\n",
      "Type 1:  65\n",
      "Initial Loss:  2.66418559238\n",
      "\n",
      "Loss Before: 2.66418559238\n",
      "Loss After [i = 0]: 2.66397446975\n",
      "[ -4.51659132e-05   5.00000000e-01  -9.99861894e-01]\n",
      "\n",
      "Loss Before: 2.87275880157\n",
      "Loss After [i = 1000]: 2.8726000365\n",
      "[-0.04980621  0.50284119 -0.87447753]\n",
      "\n",
      "Loss Before: 2.79568851602\n",
      "Loss After [i = 2000]: 2.79557273159\n",
      "[-0.10794624  0.51083203 -0.77155495]\n",
      "\n",
      "Loss Before: 2.92669421304\n",
      "Loss After [i = 3000]: 2.92657977233\n",
      "[-0.1691838   0.52262876 -0.68606261]\n",
      "\n",
      "Loss Before: 3.17696762669\n",
      "Loss After [i = 4000]: 3.17688371674\n",
      "[-0.24142315  0.53815337 -0.60966047]\n",
      "\n",
      "Loss Before: 3.16589412229\n",
      "Loss After [i = 5000]: 3.1658251865\n",
      "[-0.31409254  0.55089689 -0.56326549]\n",
      "\n",
      "Loss Before: 3.02874041136\n",
      "Loss After [i = 6000]: 3.0286897393\n",
      "[-0.37969888  0.56342157 -0.52694526]\n",
      "\n",
      "Loss Before: 3.04004323986\n",
      "Loss After [i = 7000]: 3.04000014956\n",
      "[-0.4427727   0.57363864 -0.50195789]\n",
      "\n",
      "Loss Before: 2.99860766776\n",
      "Loss After [i = 8000]: 2.99856775573\n",
      "[-0.50576314  0.57926248 -0.49005138]\n",
      "\n",
      "Loss Before: 2.95998862955\n",
      "Loss After [i = 9000]: 2.95995121039\n",
      "[-0.56726081  0.58343215 -0.48224632]\n",
      "Trained Loss:  2.86779765919\n",
      "Weights:  [-0.62726357  0.58616695 -0.47764423]\n"
     ]
    },
    {
     "data": {
      "image/png": "[encoded data removed]",
      "text/plain": [
       "<matplotlib.figure.Figure at 0x1bcb5d7e940>"
      ]
     },
     "metadata": {},
     "output_type": "display_data"
    }
   ],
   "source": [
    "random.seed(1234)\n",
    "points, targets = generateChevronData()\n",
    "\n",
    "plt.axis([-1.5, 1.5, -1.5, 1.5])\n",
    "\n",
    "# Plot points on graph\n",
    "c1 = []\n",
    "c2 = []\n",
    "\n",
    "for i in range(0, len(points)):\n",
    "    if targets[i] == 0:\n",
    "        c1.append(points[i])\n",
    "    else:\n",
    "        c2.append(points[i])\n",
    "\n",
    "print(\"Type 0: \", len(c1))\n",
    "print(\"Type 1: \", len(c2))\n",
    "        \n",
    "plotScatter(c1)\n",
    "plotScatter(c2)\n",
    "\n",
    "radius = 0.6\n",
    "\n",
    "weights, iPoints = trainBoundaryHunter()\n",
    "plotLine(iPoints)\n",
    "plt.scatter(weights[1], weights[2])\n",
    "plt.plot([-1.0, 1.0], [weights[2] + weights[0]*((-1) - weights[1]), weights[2] + weights[0]*(1 - weights[1])], 'k-')\n",
    "\n",
    "x = np.linspace(-1.5, 1.5, 500)\n",
    "y = np.linspace(-1.5, 1.5, 500)\n",
    "X, Y = np.meshgrid(x,y)\n",
    "F = ((X - weights[1]))**2 + ((Y - weights[2]))**2 - radius**2\n",
    "plt.contour(X,Y,F,[0])\n",
    "\n",
    "plt.gca().set_aspect('equal')\n",
    "\n",
    "plt.show()"
   ]
  },
  {
   "cell_type": "code",
   "execution_count": null,
   "metadata": {
    "collapsed": true
   },
   "outputs": [],
   "source": []
  },
  {
   "cell_type": "code",
   "execution_count": null,
   "metadata": {
    "collapsed": true
   },
   "outputs": [],
   "source": []
  },
  {
   "cell_type": "code",
   "execution_count": null,
   "metadata": {
    "collapsed": true
   },
   "outputs": [],
   "source": []
  }
 ],
 "metadata": {
  "kernelspec": {
   "display_name": "Python 3",
   "language": "python",
   "name": "python3"
  },
  "language_info": {
   "codemirror_mode": {
    "name": "ipython",
    "version": 3
   },
   "file_extension": ".py",
   "mimetype": "text/x-python",
   "name": "python",
   "nbconvert_exporter": "python",
   "pygments_lexer": "ipython3",
   "version": "3.6.0"
  }
 },
 "nbformat": 4,
 "nbformat_minor": 2
}
