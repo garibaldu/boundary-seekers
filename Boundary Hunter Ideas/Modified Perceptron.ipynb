{
 "cells": [
  {
   "cell_type": "code",
   "execution_count": 111,
   "metadata": {
    "collapsed": true
   },
   "outputs": [],
   "source": [
    "%matplotlib inline\n",
    "\n",
    "import matplotlib\n",
    "import autograd.numpy as np\n",
    "import matplotlib.pyplot as plt\n",
    "import random\n",
    "import math\n",
    "from autograd import grad\n",
    "\n",
    "def generateChevronData():\n",
    "    xBounds = [-50, 50]\n",
    "    yBounds = [-50, 50]\n",
    "    totalPoints = 100\n",
    "    \n",
    "    points = []\n",
    "    targets = []\n",
    "    \n",
    "    for i in range(0, totalPoints):\n",
    "        x = random.randint(xBounds[0], xBounds[1])\n",
    "        y = random.randint(yBounds[0], yBounds[1])\n",
    "        \n",
    "        if x >= y and x <= -y:\n",
    "            points.append([1, x/50.0,y/50.0])\n",
    "            targets.append(0)\n",
    "        else:\n",
    "            points.append([1, x/50.0,y/50.0])\n",
    "            targets.append(1)\n",
    "        \n",
    "    return np.array(points), np.array(targets)\n",
    "    \n",
    "def plotScatter(points):\n",
    "    xs = [x[1] for x in points]\n",
    "    ys = [y[2] for y in points]\n",
    "    \n",
    "    plt.scatter(xs, ys)"
   ]
  },
  {
   "cell_type": "code",
   "execution_count": 120,
   "metadata": {
    "collapsed": true
   },
   "outputs": [],
   "source": [
    "def sigmoid(phi):\n",
    "    return 1.0/(1.0 + np.exp(-phi))\n",
    "\n",
    "def MSE(weights):\n",
    "    predictions = logisticPrediction(weights, points)\n",
    "    return 1.0/2.0 * np.sum(np.power((targets - predictions), 2))\n",
    "\n",
    "# def localLogLoss(weights):\n",
    "#     predictions = logisticPrediction(weights, points)\n",
    "#     print(targets)\n",
    "#     print(predictions)\n",
    "#     probs = predictions * targets + (1 - predictions) * (1 - targets)\n",
    "#     print(predictions)\n",
    "#     print(targets)\n",
    "#     print(np.log(probs))\n",
    "#     return -(1/len(points)) * np.sum(np.log(probs))\n",
    "\n",
    "# def localLogLoss(weights, example):\n",
    "#     return (predict(weights, example))\n",
    "\n",
    "def logisticPrediction(weights, p):\n",
    "    ins = np.array(list(map(lambda x: predict(weights, x), p)))\n",
    "    return ins\n",
    "    \n",
    "def predict(weights, i):\n",
    "    return sigmoid((i[2] - weights[2]) - weights[0] * (i[1] - weights[1]))"
   ]
  },
  {
   "cell_type": "code",
   "execution_count": 126,
   "metadata": {
    "collapsed": true
   },
   "outputs": [],
   "source": [
    "def computeGradient(weights, example, target):\n",
    "    prediction = predict(weights, example)\n",
    "    E = -np.log(target * prediction + (1-target) * (1-prediction))\n",
    "    dE_dO = computeErrorDifferential(prediction, target)\n",
    "    \n",
    "    dO_dZ = prediction * (1-prediction)\n",
    "    \n",
    "    dZ_dy = -1\n",
    "    dZ_dm = weights[1] - example[1]\n",
    "    dZ_dx = weights[0]\n",
    "    \n",
    "    dE_dZ = dE_dO * dO_dZ\n",
    "    \n",
    "    grad = np.zeros(3)#[0.0, 0.0, 0.0]\n",
    "    grad[0] = dZ_dm * dE_dZ\n",
    "    grad[1] = dZ_dx * dE_dZ\n",
    "    grad[2] = dZ_dy * dE_dZ\n",
    "    \n",
    "    return grad, E\n",
    "\n",
    "def computeErrorDifferential(prediction, target):\n",
    "    return -(target - prediction)\n",
    "#     print(prediction, target)\n",
    "#     if target == 1:\n",
    "#         return -1/np.log(prediction)\n",
    "    \n",
    "#     return 1/np.log(1-prediction)"
   ]
  },
  {
   "cell_type": "code",
   "execution_count": 131,
   "metadata": {
    "collapsed": false
   },
   "outputs": [],
   "source": [
    "def trainBoundaryHunter():\n",
    "    weights = np.array([0.0, 0.0, 1.0])\n",
    "#     trainingGradient = grad(MSE)\n",
    "    \n",
    "    print(\"Initial Loss: \", MSE(weights))\n",
    "    for i in range(0, 5000):\n",
    "#         g = trainingGradient(weights) * 0.01\n",
    "        if i % 1000 == 0:\n",
    "            print()\n",
    "            print(\"Loss Before: \" + str(MSE(weights)))\n",
    "\n",
    "        weights, error = computeStep(weights)\n",
    "#         weights -= g\n",
    "    \n",
    "        if i % 1000 == 0:\n",
    "            print(\"Loss After [i = \" + str(i) + \"]: \" + str(MSE(weights)))\n",
    "            print(weights)\n",
    "            \n",
    "    print(\"Trained Loss: \", MSE(weights))    \n",
    "    print(\"Weights: \", weights)\n",
    "    return weights\n",
    "\n",
    "def computeStep(weights):\n",
    "    totalG = np.zeros(3)\n",
    "    totalE = 0\n",
    "    for i in range(0, len(points)):\n",
    "        g, error = computeGradient(weights, points[i], targets[i])\n",
    "        totalE += error\n",
    "        totalG += g     \n",
    "        \n",
    "    totalG = totalG * (1/len(points))\n",
    "    totalE = totalE * (1/len(points))\n",
    "        \n",
    "    weights -= totalG * 0.01\n",
    "    return weights, totalE"
   ]
  },
  {
   "cell_type": "code",
   "execution_count": 132,
   "metadata": {
    "collapsed": false
   },
   "outputs": [
    {
     "name": "stdout",
     "output_type": "stream",
     "text": [
      "Type 0:  35\n",
      "Type 1:  65\n",
      "Initial Loss:  16.071361585\n",
      "\n",
      "Loss Before: 16.071361585\n",
      "Loss After [i = 0]: 16.0645485641\n",
      "[ -1.09872316e-05   0.00000000e+00   9.99174650e-01]\n",
      "\n",
      "Loss Before: 10.5732644464\n",
      "Loss After [i = 1000]: 10.5695814829\n",
      "[-0.03646671 -0.00977395  0.26200274]\n",
      "\n",
      "Loss Before: 8.38977288885\n",
      "Loss After [i = 2000]: 8.38868256335\n",
      "[-0.10009102 -0.0390594  -0.19243409]\n",
      "\n",
      "Loss Before: 7.78772543189\n",
      "Loss After [i = 3000]: 7.78743922549\n",
      "[-0.15728617 -0.06839966 -0.4243727 ]\n",
      "\n",
      "Loss Before: 7.62870085544\n",
      "Loss After [i = 4000]: 7.62862354172\n",
      "[-0.19982366 -0.0886823  -0.53882979]\n",
      "Trained Loss:  7.58464854532\n",
      "Weights:  [-0.23024284 -0.10075366 -0.59521701]\n"
     ]
    },
    {
     "data": {
      "image/png": "[encoded data removed]",
      "text/plain": [
       "<matplotlib.figure.Figure at 0x1b586a544e0>"
      ]
     },
     "metadata": {},
     "output_type": "display_data"
    }
   ],
   "source": [
    "random.seed(1234)\n",
    "points, targets = generateChevronData()\n",
    "\n",
    "plt.axis([-1.5, 1.5, -1.5, 1.5])\n",
    "\n",
    "# Plot points on graph\n",
    "c1 = []\n",
    "c2 = []\n",
    "\n",
    "for i in range(0, len(points)):\n",
    "    if targets[i] == 0:\n",
    "        c1.append(points[i])\n",
    "    else:\n",
    "        c2.append(points[i])\n",
    "\n",
    "print(\"Type 0: \", len(c1))\n",
    "print(\"Type 1: \", len(c2))\n",
    "        \n",
    "plotScatter(c1)\n",
    "plotScatter(c2)\n",
    "\n",
    "weights = trainBoundaryHunter()\n",
    "plt.scatter(weights[1], weights[2])\n",
    "plt.plot([-1.0, 1.0], [weights[2] + weights[0]*((-1) - weights[1]), weights[2] + weights[0]*(1 - weights[1])], 'k-')\n",
    "plt.gca().set_aspect('equal')\n",
    "\n",
    "plt.show()"
   ]
  },
  {
   "cell_type": "code",
   "execution_count": null,
   "metadata": {
    "collapsed": true
   },
   "outputs": [],
   "source": []
  },
  {
   "cell_type": "code",
   "execution_count": null,
   "metadata": {
    "collapsed": true
   },
   "outputs": [],
   "source": []
  },
  {
   "cell_type": "code",
   "execution_count": null,
   "metadata": {
    "collapsed": true
   },
   "outputs": [],
   "source": []
  }
 ],
 "metadata": {
  "kernelspec": {
   "display_name": "Python 3",
   "language": "python",
   "name": "python3"
  },
  "language_info": {
   "codemirror_mode": {
    "name": "ipython",
    "version": 3
   },
   "file_extension": ".py",
   "mimetype": "text/x-python",
   "name": "python",
   "nbconvert_exporter": "python",
   "pygments_lexer": "ipython3",
   "version": "3.6.0"
  }
 },
 "nbformat": 4,
 "nbformat_minor": 2
}
