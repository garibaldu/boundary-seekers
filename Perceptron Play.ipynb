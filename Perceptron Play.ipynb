{
 "cells": [
  {
   "cell_type": "code",
   "execution_count": 72,
   "metadata": {
    "collapsed": true
   },
   "outputs": [],
   "source": [
    "%matplotlib inline\n",
    "\n",
    "import matplotlib\n",
    "import autograd.numpy as np\n",
    "import matplotlib.pyplot as plt\n",
    "import random\n",
    "import math\n",
    "from autograd import grad"
   ]
  },
  {
   "cell_type": "code",
   "execution_count": 73,
   "metadata": {
    "collapsed": false
   },
   "outputs": [],
   "source": [
    "def generateChevronData():\n",
    "    xBounds = [-50, 50]\n",
    "    yBounds = [-50, 50]\n",
    "    totalPoints = 100\n",
    "    \n",
    "    points = []\n",
    "    targets = []\n",
    "    \n",
    "    for i in range(0, totalPoints):\n",
    "        x = random.randint(xBounds[0], xBounds[1])\n",
    "        y = random.randint(yBounds[0], yBounds[1])\n",
    "        \n",
    "        if x >= y and x <= -y:\n",
    "            points.append([1, x/50.0,y/50.0])\n",
    "            targets.append(0)\n",
    "        else:\n",
    "            points.append([1, x/50.0,y/50.0])\n",
    "            targets.append(1)\n",
    "        \n",
    "    return np.array(points), np.array(targets)\n",
    "    \n",
    "def plotScatter(points):\n",
    "    xs = [x[1] for x in points]\n",
    "    ys = [y[2] for y in points]\n",
    "    \n",
    "    plt.scatter(xs, ys)"
   ]
  },
  {
   "cell_type": "code",
   "execution_count": 135,
   "metadata": {
    "collapsed": false
   },
   "outputs": [],
   "source": [
    "def logLoss(weights):\n",
    "    predictions = logisticPrediction(weights, points)\n",
    "    probs = predictions * targets + (1 - predictions) * (1 - targets)\n",
    "    return -(1/len(points)) * np.sum(np.log(probs))\n",
    "    \n",
    "def logisticPrediction(weights, inputs):\n",
    "    return sigmoid(np.dot(inputs, weights))\n",
    "\n",
    "def sigmoid(t):\n",
    "    return 0.5 * (np.tanh(t) + 1)\n",
    "#     return 1.0/(1.0 + np.exp(-t))\n",
    "\n",
    "def trainBasicPerceptron():\n",
    "    weights = np.array([0.0, 0.0, 0.0])\n",
    "    trainingGradient = grad(logLoss)\n",
    "    \n",
    "    print(\"Initial Loss: \", logLoss(weights))\n",
    "    for i in range(1, 100):\n",
    "        weights -= trainingGradient(weights) * 0.01\n",
    "            \n",
    "    print(\"Trained Loss: \", logLoss(weights))    \n",
    "    print(\"Weights: \", weights)\n",
    "    return weights\n",
    "    \n",
    "    "
   ]
  },
  {
   "cell_type": "code",
   "execution_count": null,
   "metadata": {
    "collapsed": false
   },
   "outputs": [],
   "source": [
    "\n",
    "    "
   ]
  },
  {
   "cell_type": "code",
   "execution_count": 136,
   "metadata": {
    "collapsed": false,
    "scrolled": true
   },
   "outputs": [
    {
     "name": "stdout",
     "output_type": "stream",
     "text": [
      "Type 0:  35\n",
      "Type 1:  65\n",
      "Training Basic Perceptron\n",
      "Initial Loss:  0.69314718056\n",
      "Trained Loss:  0.545046978607\n",
      "Weights:  [ 0.20708965  0.03437634  0.31675767]\n"
     ]
    },
    {
     "data": {
      "image/png": "[encoded data removed]",
      "text/plain": [
       "<matplotlib.figure.Figure at 0x1f3a3bdbb38>"
      ]
     },
     "metadata": {},
     "output_type": "display_data"
    }
   ],
   "source": [
    "\n",
    "random.seed(1234)\n",
    "points, targets = generateChevronData()\n",
    "\n",
    "plt.axis([-1.5, 1.5, -1.5, 1.5])\n",
    "\n",
    "# Plot points on graph\n",
    "c1 = []\n",
    "c2 = []\n",
    "\n",
    "for i in range(0, len(points)):\n",
    "    if targets[i] == 0:\n",
    "        c1.append(points[i])\n",
    "    else:\n",
    "        c2.append(points[i])\n",
    "\n",
    "print(\"Type 0: \", len(c1))\n",
    "print(\"Type 1: \", len(c2))\n",
    "        \n",
    "plotScatter(c1)\n",
    "plotScatter(c2)\n",
    "\n",
    "print(\"Training Basic Perceptron\")\n",
    "basicPerceptronWeights = trainBasicPerceptron()\n",
    "byas = -1 * basicPerceptronWeights[0]/basicPerceptronWeights[2]\n",
    "Xcoef = basicPerceptronWeights[1]/basicPerceptronWeights[2]\n",
    "\n",
    "plt.plot([-1.0, 1.0], [-1*Xcoef + byas, Xcoef + byas], 'k-')\n",
    "plt.gca().set_aspect('equal')\n",
    "\n",
    "plt.show()"
   ]
  },
  {
   "cell_type": "markdown",
   "metadata": {},
   "source": [
    "# Boundary Hunter\n",
    "Here we explore training a perceptron that rather than solving the global optima would rather place its self somewhere useful in the data. For this problem we change our representation of a perceptron to be a point (x,y) plus a gradient m. This is what defines our line. Esentially what we are wanting to do is to solve for local optima in the global sense but a global optima local to (x,y),m.\n",
    "\n",
    "## Solution 1 (Distance Scaled Error)\n",
    "A first naive solution to this problem was to adjust the classification error of a data point based on distance from (x,y). While initially it would seem like this should work the issue here is that this loss function dosnt encourage the perceptron to move towards an interesting area, it can find a better solution by moving away from the datapoints it is getting wrong.\n",
    "\n",
    "## Solution 2 (Maximize Variance Of Local Targets)\n",
    "A second naive solution is to maximize the variance of the targets in a local area to (x,y). This makes sense as we want to position our self in an interesting place in the data. However the issue is aparent when we look at the graph above. We see that one place we want a line is on the left side of the \"chevron\" but in this area there is alot of blue but not alot of orange so this solution wouldent even work in our simple proof of concept example.\n",
    "\n",
    "## Solution 3 (Global and Local Minimization)\n",
    "As discussed above we are trying to find a local (sub optimal) global solution and a global (optimal) local solution (local to (x,y),m). This approach takes our loss $L$ to be $L_G + L_L$ where $L_G$ is the standard cross entropy loss that a standard perceptron would use and $L_L$ is the standard cross entropy loss but as a distance scaled error.\n",
    "\n",
    "So define $ E(i) = t_i log(\\hat{t_i}) + (1-t_i) log(\\hat{t_i}) $, then\n",
    "$L = \\sum_{i=1}^{N} E(i) * (1 + d_i)$ where $d_i$ is the distance from the point to $(x,y)$. After experementing with this I found that while the point does move often the optimal solution has a gradient very close to 0. Looking at the origonal perceptron, given that the solution has a very slight gradient, I think that $L_G$ is having to much of an effect on the total loss\n"
   ]
  },
  {
   "cell_type": "markdown",
   "metadata": {},
   "source": [
    "# Simplyfy Problem\n",
    "Solution 3 seemed close but there is still something wrong with the approach, We break the problem down and start by fixing the point $(x,y)$ and solving for the gradient of the line."
   ]
  },
  {
   "cell_type": "code",
   "execution_count": 152,
   "metadata": {
    "collapsed": false
   },
   "outputs": [
    {
     "name": "stdout",
     "output_type": "stream",
     "text": [
      "Initial Loss:  1.39034136371\n",
      "Trained Loss:  1.17150239243\n",
      "Weights:  [ 0.78731958]\n"
     ]
    },
    {
     "data": {
      "image/png": "[encoded data removed]",
      "text/plain": [
       "<matplotlib.figure.Figure at 0x1f3a3f39fd0>"
      ]
     },
     "metadata": {},
     "output_type": "display_data"
    }
   ],
   "source": [
    "plotScatter(c1)\n",
    "plotScatter(c2)\n",
    "\n",
    "X = -0.75\n",
    "Y = -0.75\n",
    "\n",
    "def fixedXLogLoss(weights):\n",
    "    distances = np.sqrt(np.array(list(map(lambda x: ((x[0] - X)**2 + (x[1] - Y)**2), points))))\n",
    "    maxD = np.max(distances)\n",
    "    normD = 1.001 - (distances/maxD)\n",
    "    \n",
    "    predictions = fixedXLogisticPredict(weights, points)\n",
    "    probs = predictions * targets + (1 - predictions) * (1 - targets)\n",
    "    t = np.array(list(map(lambda x: (probs[x]) * (1 + normD[x]), range(0, len(distances)))))\n",
    "    return -(1/len(points)) * np.sum(np.log(t))\n",
    "\n",
    "def fixedXLogisticPredict(weights, inputs):\n",
    "    ins = np.array(list(map(lambda x: fixedXPredict(weights, x), inputs)))\n",
    "    return sigmoid(ins)\n",
    "\n",
    "def fixedXPredict(weights, i):\n",
    "    return (Y - i[2]) - weights[0] * (X - i[1])\n",
    "\n",
    "def solveGradientForFixedX():\n",
    "    weights = np.array([0.0])\n",
    "    trainingGradient = grad(fixedXLogLoss)\n",
    "    \n",
    "    print(\"Initial Loss: \", fixedXLogLoss(weights))\n",
    "    for i in range(1, 3000):\n",
    "        weights -= trainingGradient(weights) * 0.003\n",
    "            \n",
    "    print(\"Trained Loss: \", fixedXLogLoss(weights))    \n",
    "    print(\"Weights: \", weights)\n",
    "    return weights\n",
    "    \n",
    "\n",
    "fixedWeightsX = solveGradientForFixedX()\n",
    "\n",
    "plt.scatter(X, Y)\n",
    "plt.plot([-1.0, 1.0], [Y - fixedWeightsX[0]*(X + 1), Y - fixedWeightsX[0]*(X - 1)], 'k-')\n",
    "\n",
    "plt.gca().set_aspect('equal')\n",
    "plt.show()"
   ]
  },
  {
   "cell_type": "markdown",
   "metadata": {},
   "source": [
    "Using this setup we see that with carful positioning of the initial (x,y) we are able to solve for a line gradient which achives the goal we are looking for. We want to be add in solving for the (x,y) position aswell."
   ]
  },
  {
   "cell_type": "code",
   "execution_count": 137,
   "metadata": {
    "collapsed": true
   },
   "outputs": [],
   "source": [
    "def trainBoundarySeekerPerceptron():\n",
    "    # Start at the origin with gradient 0 \n",
    "    weights = np.array([1, 0.9, 0.9])\n",
    "    trainingGradient = grad(localLogLoss)\n",
    "    \n",
    "    print(\"Initial Loss: \", localLogLoss(weights))\n",
    "    for i in range(1, 100):\n",
    "        weights -= trainingGradient(weights) * 0.03\n",
    "            \n",
    "    print(\"Trained Loss: \", localLogLoss(weights))    \n",
    "    print(\"Weights: \", weights)\n",
    "    return weights\n",
    "    \n",
    "def pgLogisticPrediction(weights, inputs):\n",
    "    ins = np.array(list(map(lambda x: predict(weights, x), inputs)))\n",
    "    return sigmoid(ins)\n",
    "    \n",
    "def predict(weights, i):\n",
    "    return (weights[2] - i[2]) - weights[0] * (weights[1] - i[1])\n",
    "    \n",
    "def localLogLoss(weights):\n",
    "#     i = list(filter(lambda e: (points[e][1] - weights[1])**2 + (points[e][2] - weights[2])**2 <= 0.4**2, range(0, len(points))))\n",
    "    \n",
    "#     local = np.array(list(map(lambda x: points[x], i)))\n",
    "#     t = np.array(list(map(lambda x: targets[x], i)))\n",
    "    distances = np.sqrt(np.array(list(map(lambda x: ((x[0] - weights[1])**2 + (x[1] - weights[2])**2), points))))\n",
    "    maxD = np.max(distances)\n",
    "    normD = 1.001 - (distances/maxD)\n",
    "    \n",
    "    predictions = pgLogisticPrediction(weights, points)\n",
    "    probs = predictions * targets + (1 - predictions) * (1 - targets)\n",
    "    t = np.array(list(map(lambda x: (probs[x]) * (1 + normD[x]), range(0, len(distances)))))\n",
    "    return -(1/len(points)) * np.sum(np.log(t))"
   ]
  },
  {
   "cell_type": "code",
   "execution_count": 138,
   "metadata": {
    "collapsed": false
   },
   "outputs": [
    {
     "name": "stdout",
     "output_type": "stream",
     "text": [
      "\n",
      "\n",
      "Training Boundary Hunter Perceptron\n",
      "Initial Loss:  0.978022701288\n",
      "Trained Loss:  0.8105912563\n",
      "Weights:  [ 0.3995008   0.98213335  0.68137695]\n"
     ]
    },
    {
     "data": {
      "image/png": "[encoded data removed]",
      "text/plain": [
       "<matplotlib.figure.Figure at 0x1f3a3b126d8>"
      ]
     },
     "metadata": {},
     "output_type": "display_data"
    }
   ],
   "source": [
    "plotScatter(c1)\n",
    "plotScatter(c2)\n",
    "\n",
    "print(\"\\n\\nTraining Boundary Hunter Perceptron\")\n",
    "# r1 = 0.25\n",
    "# r2 = 0.5\n",
    "c = 0.4\n",
    "modifiedPerceptronWeights = trainBoundarySeekerPerceptron()\n",
    "plt.scatter(modifiedPerceptronWeights[1], modifiedPerceptronWeights[2])\n",
    "plt.plot([-1.0, 1.0], [modifiedPerceptronWeights[2] - modifiedPerceptronWeights[0]*(modifiedPerceptronWeights[1] + 1), modifiedPerceptronWeights[2] - modifiedPerceptronWeights[0]*(modifiedPerceptronWeights[1] - 1)], 'k-')\n",
    "\n",
    "x = np.linspace(-1.5, 1.5, 500)\n",
    "y = np.linspace(-1.5, 1.5, 500)\n",
    "X, Y = np.meshgrid(x,y)\n",
    "F = ((X - modifiedPerceptronWeights[1]))**2 + ((Y - modifiedPerceptronWeights[2]))**2 - c**2\n",
    "plt.contour(X,Y,F,[0])\n",
    "\n",
    "plt.gca().set_aspect('equal')\n",
    "\n",
    "plt.show()"
   ]
  },
  {
   "cell_type": "code",
   "execution_count": null,
   "metadata": {
    "collapsed": true
   },
   "outputs": [],
   "source": []
  },
  {
   "cell_type": "code",
   "execution_count": null,
   "metadata": {
    "collapsed": true
   },
   "outputs": [],
   "source": []
  },
  {
   "cell_type": "code",
   "execution_count": null,
   "metadata": {
    "collapsed": true
   },
   "outputs": [],
   "source": []
  }
 ],
 "metadata": {
  "kernelspec": {
   "display_name": "Python 3",
   "language": "python",
   "name": "python3"
  },
  "language_info": {
   "codemirror_mode": {
    "name": "ipython",
    "version": 3
   },
   "file_extension": ".py",
   "mimetype": "text/x-python",
   "name": "python",
   "nbconvert_exporter": "python",
   "pygments_lexer": "ipython3",
   "version": "3.6.0"
  }
 },
 "nbformat": 4,
 "nbformat_minor": 2
}
