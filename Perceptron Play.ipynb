{
 "cells": [
  {
   "cell_type": "code",
   "execution_count": 3,
   "metadata": {
    "collapsed": true
   },
   "outputs": [],
   "source": [
    "%matplotlib inline\n",
    "\n",
    "import matplotlib\n",
    "import autograd.numpy as np\n",
    "import matplotlib.pyplot as plt\n",
    "import random\n",
    "import math\n",
    "from autograd import grad"
   ]
  },
  {
   "cell_type": "code",
   "execution_count": 4,
   "metadata": {
    "collapsed": false
   },
   "outputs": [],
   "source": [
    "def generateChevronData():\n",
    "    xBounds = [-50, 50]\n",
    "    yBounds = [-50, 50]\n",
    "    totalPoints = 100\n",
    "    \n",
    "    points = []\n",
    "    targets = []\n",
    "    \n",
    "    for i in range(0, totalPoints):\n",
    "        x = random.randint(xBounds[0], xBounds[1])\n",
    "        y = random.randint(yBounds[0], yBounds[1])\n",
    "        \n",
    "        if x >= y and x <= -y:\n",
    "            points.append([1, x/50.0,y/50.0])\n",
    "            targets.append(0)\n",
    "        else:\n",
    "            points.append([1, x/50.0,y/50.0])\n",
    "            targets.append(1)\n",
    "        \n",
    "    return np.array(points), np.array(targets)\n",
    "    \n",
    "def plotScatter(points):\n",
    "    xs = [x[1] for x in points]\n",
    "    ys = [y[2] for y in points]\n",
    "    \n",
    "    plt.scatter(xs, ys)"
   ]
  },
  {
   "cell_type": "code",
   "execution_count": 5,
   "metadata": {
    "collapsed": false
   },
   "outputs": [],
   "source": [
    "def logLoss(weights):\n",
    "    predictions = logisticPrediction(weights, points)\n",
    "    probs = predictions * targets + (1 - predictions) * (1 - targets)\n",
    "    return -(1/len(points)) * np.sum(np.log(probs))\n",
    "    \n",
    "def logisticPrediction(weights, inputs):\n",
    "    return sigmoid(np.dot(inputs, weights))\n",
    "\n",
    "def sigmoid(t):\n",
    "    return 0.5 * (np.tanh(t) + 1)\n",
    "#     return 1.0/(1.0 + np.exp(-t))\n",
    "\n",
    "def trainBasicPerceptron():\n",
    "    weights = np.array([0.0, 0.0, 0.0])\n",
    "    trainingGradient = grad(logLoss)\n",
    "    \n",
    "    print(\"Initial Loss: \", logLoss(weights))\n",
    "    for i in range(1, 100):\n",
    "        weights -= trainingGradient(weights) * 0.01\n",
    "            \n",
    "    print(\"Trained Loss: \", logLoss(weights))    \n",
    "    print(\"Weights: \", weights)\n",
    "    return weights\n",
    "    \n",
    "    "
   ]
  },
  {
   "cell_type": "code",
   "execution_count": null,
   "metadata": {
    "collapsed": false
   },
   "outputs": [],
   "source": [
    "\n",
    "    "
   ]
  },
  {
   "cell_type": "code",
   "execution_count": 6,
   "metadata": {
    "collapsed": false,
    "scrolled": true
   },
   "outputs": [
    {
     "name": "stdout",
     "output_type": "stream",
     "text": [
      "Type 0:  35\n",
      "Type 1:  65\n",
      "Training Basic Perceptron\n",
      "Initial Loss:  0.69314718056\n",
      "Trained Loss:  0.545046978607\n",
      "Weights:  [ 0.20708965  0.03437634  0.31675767]\n"
     ]
    },
    {
     "data": {
      "image/png": "[encoded data removed]",
      "text/plain": [
       "<matplotlib.figure.Figure at 0x2169a608860>"
      ]
     },
     "metadata": {},
     "output_type": "display_data"
    }
   ],
   "source": [
    "\n",
    "random.seed(1234)\n",
    "points, targets = generateChevronData()\n",
    "\n",
    "plt.axis([-1.5, 1.5, -1.5, 1.5])\n",
    "\n",
    "# Plot points on graph\n",
    "c1 = []\n",
    "c2 = []\n",
    "\n",
    "for i in range(0, len(points)):\n",
    "    if targets[i] == 0:\n",
    "        c1.append(points[i])\n",
    "    else:\n",
    "        c2.append(points[i])\n",
    "\n",
    "print(\"Type 0: \", len(c1))\n",
    "print(\"Type 1: \", len(c2))\n",
    "        \n",
    "plotScatter(c1)\n",
    "plotScatter(c2)\n",
    "\n",
    "print(\"Training Basic Perceptron\")\n",
    "basicPerceptronWeights = trainBasicPerceptron()\n",
    "byas = -1 * basicPerceptronWeights[0]/basicPerceptronWeights[2]\n",
    "Xcoef = basicPerceptronWeights[1]/basicPerceptronWeights[2]\n",
    "\n",
    "plt.plot([-1.0, 1.0], [-1*Xcoef + byas, Xcoef + byas], 'k-')\n",
    "plt.gca().set_aspect('equal')\n",
    "\n",
    "plt.show()"
   ]
  },
  {
   "cell_type": "markdown",
   "metadata": {},
   "source": [
    "# Boundary Hunter\n",
    "Here we explore training a perceptron that rather than solving the global optima would rather place its self somewhere useful in the data. For this problem we change our representation of a perceptron to be a point (x,y) plus a gradient m. This is what defines our line. Esentially what we are wanting to do is to solve for local optima in the global sense but a global optima local to (x,y),m.\n",
    "\n",
    "## Solution 1 (Distance Scaled Error)\n",
    "A first naive solution to this problem was to adjust the classification error of a data point based on distance from (x,y). While initially it would seem like this should work the issue here is that this loss function dosnt encourage the perceptron to move towards an interesting area, it can find a better solution by moving away from the datapoints it is getting wrong.\n",
    "\n",
    "## Solution 2 (Maximize Variance Of Local Targets)\n",
    "A second naive solution is to maximize the variance of the targets in a local area to (x,y). This makes sense as we want to position our self in an interesting place in the data. However the issue is aparent when we look at the graph above. We see that one place we want a line is on the left side of the \"chevron\" but in this area there is alot of blue but not alot of orange so this solution wouldent even work in our simple proof of concept example.\n",
    "\n",
    "## Solution 3 (Global and Local Minimization)\n",
    "As discussed above we are trying to find a local (sub optimal) global solution and a global (optimal) local solution (local to (x,y),m). This approach takes our loss $L$ to be $L_G + L_L$ where $L_G$ is the standard cross entropy loss that a standard perceptron would use and $L_L$ is the standard cross entropy loss but as a distance scaled error.\n",
    "\n",
    "So define $ E(i) = t_i log(\\hat{t_i}) + (1-t_i) log(\\hat{t_i}) $, then\n",
    "$L = \\sum_{i=1}^{N} E(i) * (1 + d_i)$ where $d_i$ is the distance from the point to $(x,y)$. After experementing with this I found that while the point does move often the optimal solution has a gradient very close to 0. Looking at the origonal perceptron, given that the solution has a very slight gradient, I think that $L_G$ is having to much of an effect on the total loss\n"
   ]
  },
  {
   "cell_type": "markdown",
   "metadata": {},
   "source": [
    "# Simplyfy Problem\n",
    "Solution 3 seemed close but there is still something wrong with the approach, We break the problem down and start by fixing the point $(x,y)$ and solving for the gradient of the line."
   ]
  },
  {
   "cell_type": "code",
   "execution_count": 7,
   "metadata": {
    "collapsed": false
   },
   "outputs": [
    {
     "name": "stdout",
     "output_type": "stream",
     "text": [
      "Initial Loss:  1.39034136371\n",
      "Trained Loss:  1.17150239243\n",
      "Weights:  [ 0.78731958]\n"
     ]
    },
    {
     "data": {
      "image/png": "[encoded data removed]",
      "text/plain": [
       "<matplotlib.figure.Figure at 0x2169aba2dd8>"
      ]
     },
     "metadata": {},
     "output_type": "display_data"
    }
   ],
   "source": [
    "plotScatter(c1)\n",
    "plotScatter(c2)\n",
    "\n",
    "X = -0.75\n",
    "Y = -0.75\n",
    "\n",
    "def fixedXLogLoss(weights):\n",
    "    distances = np.sqrt(np.array(list(map(lambda x: ((x[0] - X)**2 + (x[1] - Y)**2), points))))\n",
    "    maxD = np.max(distances)\n",
    "    normD = 1.001 - (distances/maxD)\n",
    "    \n",
    "    predictions = fixedXLogisticPredict(weights, points)\n",
    "    probs = predictions * targets + (1 - predictions) * (1 - targets)\n",
    "    t = np.array(list(map(lambda x: (probs[x]) * (1 + normD[x]), range(0, len(distances)))))\n",
    "    return -(1/len(points)) * np.sum(np.log(t))\n",
    "\n",
    "def fixedXLogisticPredict(weights, inputs):\n",
    "    ins = np.array(list(map(lambda x: fixedXPredict(weights, x), inputs)))\n",
    "    return sigmoid(ins)\n",
    "\n",
    "def fixedXPredict(weights, i):\n",
    "    return (Y - i[2]) - weights[0] * (X - i[1])\n",
    "\n",
    "def solveGradientForFixedX():\n",
    "    weights = np.array([0.0])\n",
    "    trainingGradient = grad(fixedXLogLoss)\n",
    "    \n",
    "    print(\"Initial Loss: \", fixedXLogLoss(weights))\n",
    "    for i in range(1, 3000):\n",
    "        weights -= trainingGradient(weights) * 0.003\n",
    "            \n",
    "    print(\"Trained Loss: \", fixedXLogLoss(weights))    \n",
    "    print(\"Weights: \", weights)\n",
    "    return weights\n",
    "    \n",
    "\n",
    "fixedWeightsX = solveGradientForFixedX()\n",
    "\n",
    "plt.scatter(X, Y)\n",
    "plt.plot([-1.0, 1.0], [Y - fixedWeightsX[0]*(X + 1), Y - fixedWeightsX[0]*(X - 1)], 'k-')\n",
    "\n",
    "plt.gca().set_aspect('equal')\n",
    "plt.show()"
   ]
  },
  {
   "cell_type": "markdown",
   "metadata": {},
   "source": [
    "Using this setup we see that with carful positioning of the initial (x,y) we are able to solve for a line gradient which achives the goal we are looking for. We want to be add in solving for the (x,y) position aswell.\n",
    "\n",
    "# Mahalanobis Distance\n",
    "So if we fix the (x,y) and place the start strategically then we can solve for a gradient achiving the solution we want. However this naive solution lacks alot of things, firstly we are simply scaling the error for a point by the inverse of the normalised euclidian distance, and we are unable to specify a region which the boundary hunter can say it \"knows\". The next solution (devised by Marcus Frean) specifys a eliptic shape (when working in $\\mathbb{R}^2$) for which the boundary hunter wants to achieve the best (lowest) loss possible. Then the loss from points outside this region is scaled by the probaility that the point is in the region (using the Mahalanobis Distance)."
   ]
  },
  {
   "cell_type": "code",
   "execution_count": 8,
   "metadata": {
    "collapsed": false
   },
   "outputs": [],
   "source": [
    "def getMeanCentered(l):\n",
    "    mean = np.mean(l, axis=0)\n",
    "    return l - mean\n",
    "    \n",
    "def computeCovariance(l):\n",
    "    return np.cov(l.transpose())\n",
    "\n",
    "def mahalanobisDistance(point, mean, cov):\n",
    "    return math.sqrt(np.matmul(np.matmul(np.transpose(point-mean), np.linalg.pinv(cov)), (point-mean)))\n",
    "    \n",
    "# pointsMean = points.mean()\n",
    "# pointsCov = computeCovariance(getMeanCentered(points))\n"
   ]
  },
  {
   "cell_type": "code",
   "execution_count": 15,
   "metadata": {
    "collapsed": false
   },
   "outputs": [],
   "source": [
    "def trainBoundaryHunterPerceptron():\n",
    "    # Start at the origin with gradient 0 \n",
    "    weights = np.array([0.0, -0.0, -0.0])\n",
    "    trainingGradient = grad(mDLogLoss)\n",
    "    \n",
    "    print(\"Initial Loss: \", mDLogLoss(weights))\n",
    "    for i in range(1, 100):\n",
    "        weights -= trainingGradient(weights) * 0.02\n",
    "            \n",
    "    print(\"Trained Loss: \", mDLogLoss(weights))    \n",
    "    print(\"Weights: \", weights)\n",
    "    return weights\n",
    "\n",
    "def pgLogisticPrediction(weights, p):\n",
    "    ins = np.array(list(map(lambda x: predict(weights, x), p)))\n",
    "    return sigmoid(ins)\n",
    "    \n",
    "def predict(weights, i):\n",
    "    return (weights[2] - i[2]) - weights[0] * (weights[1] - i[1])\n",
    "\n",
    "def mDLogLoss(weights):\n",
    "    # Get the points local to the boundary hunter\n",
    "    localPoints = np.array(list(map(lambda x: (x[1] - weights[1])**2 + (x[2] - weights[2])**2 <= localRadius**2, points)))\n",
    "    lPoints = np.array(list(filter(lambda x: (x[1] - weights[1])**2 + (x[2] - weights[2])**2 <= localRadius**2, points)))\n",
    "    \n",
    "    # Compute mean and covariance matrix of data\n",
    "    pointsMean = lPoints.mean(axis=0)\n",
    "    pointsCov = computeCovariance(getMeanCentered(lPoints))\n",
    "    \n",
    "    # Compute predictions of all data\n",
    "    predictions = pgLogisticPrediction(weights, points)\n",
    "    probs = predictions * targets + (1 - predictions) * (1 - targets)\n",
    "    \n",
    "    # Compute distance of every point to our distrubution and normalise it then invert it. So furthest away\n",
    "    # we care least about\n",
    "    mDist = np.array(list(map(lambda x: mahalanobisDistance(x, pointsMean, pointsCov), points)))\n",
    "    maxDist = np.amax(mDist)\n",
    "    mDist = 1.00001 - ((1.0/maxDist) * mDist)\n",
    "    \n",
    "    # Now compute array of probs, if the prob is for a point not local then scale by distance \n",
    "    t = np.array(list(map(lambda x: (1 if localPoints[x] else mDist[x]) * probs[x], range(0, len(probs)))))\n",
    "    return -(1/len(points)) * np.sum(np.log(t))\n",
    "    \n"
   ]
  },
  {
   "cell_type": "code",
   "execution_count": 17,
   "metadata": {
    "collapsed": false
   },
   "outputs": [
    {
     "name": "stdout",
     "output_type": "stream",
     "text": [
      "Training Boundary Hunter Perceptron\n",
      "Initial Loss:  2.18205468793\n",
      "Trained Loss:  2.13947974584\n",
      "Weights:  [-0.03094017  0.00252193  0.19802829]\n"
     ]
    },
    {
     "data": {
      "image/png": "[encoded data removed]",
      "text/plain": [
       "<matplotlib.figure.Figure at 0x2169b151a20>"
      ]
     },
     "metadata": {},
     "output_type": "display_data"
    }
   ],
   "source": [
    "plotScatter(c1)\n",
    "plotScatter(c2)\n",
    "\n",
    "print(\"Training Boundary Hunter Perceptron\")\n",
    "localRadius = 0.7\n",
    "bhWeights = trainBoundaryHunterPerceptron()\n",
    "\n",
    "plt.scatter(bhWeights[1], bhWeights[2])\n",
    "plt.plot([-1.0, 1.0], [bhWeights[2] - bhWeights[0]*(bhWeights[1] + 1), bhWeights[2] - bhWeights[0]*(bhWeights[1] - 1)], 'k-')\n",
    "\n",
    "x = np.linspace(-1.5, 1.5, 500)\n",
    "y = np.linspace(-1.5, 1.5, 500)\n",
    "X, Y = np.meshgrid(x,y)\n",
    "F = ((X - bhWeights[1]))**2 + ((Y - bhWeights[2]))**2 - localRadius**2\n",
    "plt.contour(X,Y,F,[0])\n",
    "\n",
    "plt.gca().set_aspect('equal')\n",
    "\n",
    "plt.show()"
   ]
  },
  {
   "cell_type": "markdown",
   "metadata": {},
   "source": [
    "This solution if started in a good location can converge how in a way we are looking for when trained for a small ammount of time. Otherwise it seems to favor moving towards the middle of the data with a flat gradient as oposed to choosing an area to achieve a high error. Another issue to solve is we ocasonally get a negative loss which indicates a problem with the way the mahalanobis distance is being used\n",
    "\n",
    "# IGNORE BELOW\n",
    "Just work in progress"
   ]
  },
  {
   "cell_type": "code",
   "execution_count": null,
   "metadata": {
    "collapsed": true
   },
   "outputs": [],
   "source": [
    "def trainBoundarySeekerPerceptron():\n",
    "    # Start at the origin with gradient 0 \n",
    "    weights = np.array([1, 0.9, 0.9])\n",
    "    trainingGradient = grad(localLogLoss)\n",
    "    \n",
    "    print(\"Initial Loss: \", localLogLoss(weights))\n",
    "    for i in range(1, 100):\n",
    "        weights -= trainingGradient(weights) * 0.03\n",
    "            \n",
    "    print(\"Trained Loss: \", localLogLoss(weights))    \n",
    "    print(\"Weights: \", weights)\n",
    "    return weights\n",
    "    \n",
    "def pgLogisticPrediction(weights, inputs):\n",
    "    ins = np.array(list(map(lambda x: predict(weights, x), inputs)))\n",
    "    return sigmoid(ins)\n",
    "    \n",
    "def predict(weights, i):\n",
    "    return (weights[2] - i[2]) - weights[0] * (weights[1] - i[1])\n",
    "    \n",
    "def localLogLoss(weights):\n",
    "#     i = list(filter(lambda e: (points[e][1] - weights[1])**2 + (points[e][2] - weights[2])**2 <= 0.4**2, range(0, len(points))))\n",
    "    \n",
    "#     local = np.array(list(map(lambda x: points[x], i)))\n",
    "#     t = np.array(list(map(lambda x: targets[x], i)))\n",
    "    distances = np.sqrt(np.array(list(map(lambda x: ((x[0] - weights[1])**2 + (x[1] - weights[2])**2), points))))\n",
    "    maxD = np.max(distances)\n",
    "    normD = 1.001 - (distances/maxD)\n",
    "    \n",
    "    predictions = pgLogisticPrediction(weights, points)\n",
    "    probs = predictions * targets + (1 - predictions) * (1 - targets)\n",
    "    t = np.array(list(map(lambda x: (probs[x]) * (1 + normD[x]), range(0, len(distances)))))\n",
    "    return -(1/len(points)) * np.sum(np.log(t))"
   ]
  },
  {
   "cell_type": "code",
   "execution_count": null,
   "metadata": {
    "collapsed": false
   },
   "outputs": [],
   "source": [
    "plotScatter(c1)\n",
    "plotScatter(c2)\n",
    "\n",
    "print(\"\\n\\nTraining Boundary Hunter Perceptron\")\n",
    "# r1 = 0.25\n",
    "# r2 = 0.5\n",
    "c = 0.4\n",
    "modifiedPerceptronWeights = trainBoundarySeekerPerceptron()\n",
    "plt.scatter(modifiedPerceptronWeights[1], modifiedPerceptronWeights[2])\n",
    "plt.plot([-1.0, 1.0], [modifiedPerceptronWeights[2] - modifiedPerceptronWeights[0]*(modifiedPerceptronWeights[1] + 1), modifiedPerceptronWeights[2] - modifiedPerceptronWeights[0]*(modifiedPerceptronWeights[1] - 1)], 'k-')\n",
    "\n",
    "x = np.linspace(-1.5, 1.5, 500)\n",
    "y = np.linspace(-1.5, 1.5, 500)\n",
    "X, Y = np.meshgrid(x,y)\n",
    "F = ((X - modifiedPerceptronWeights[1]))**2 + ((Y - modifiedPerceptronWeights[2]))**2 - c**2\n",
    "plt.contour(X,Y,F,[0])\n",
    "\n",
    "plt.gca().set_aspect('equal')\n",
    "\n",
    "plt.show()"
   ]
  },
  {
   "cell_type": "code",
   "execution_count": null,
   "metadata": {
    "collapsed": true
   },
   "outputs": [],
   "source": []
  },
  {
   "cell_type": "code",
   "execution_count": null,
   "metadata": {
    "collapsed": true
   },
   "outputs": [],
   "source": []
  },
  {
   "cell_type": "code",
   "execution_count": null,
   "metadata": {
    "collapsed": true
   },
   "outputs": [],
   "source": []
  }
 ],
 "metadata": {
  "kernelspec": {
   "display_name": "Python 3",
   "language": "python",
   "name": "python3"
  },
  "language_info": {
   "codemirror_mode": {
    "name": "ipython",
    "version": 3
   },
   "file_extension": ".py",
   "mimetype": "text/x-python",
   "name": "python",
   "nbconvert_exporter": "python",
   "pygments_lexer": "ipython3",
   "version": "3.6.0"
  }
 },
 "nbformat": 4,
 "nbformat_minor": 2
}
