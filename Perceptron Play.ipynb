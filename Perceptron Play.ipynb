{
 "cells": [
  {
   "cell_type": "code",
   "execution_count": 240,
   "metadata": {
    "collapsed": true
   },
   "outputs": [],
   "source": [
    "%matplotlib inline\n",
    "\n",
    "import matplotlib\n",
    "import autograd.numpy as np\n",
    "import matplotlib.pyplot as plt\n",
    "import random\n",
    "import math\n",
    "from autograd import grad"
   ]
  },
  {
   "cell_type": "code",
   "execution_count": 241,
   "metadata": {
    "collapsed": false
   },
   "outputs": [],
   "source": [
    "def generateChevronData():\n",
    "    xBounds = [-50, 50]\n",
    "    yBounds = [-50, 50]\n",
    "    totalPoints = 100\n",
    "    \n",
    "    points = []\n",
    "    targets = []\n",
    "    \n",
    "    for i in range(0, totalPoints):\n",
    "        x = random.randint(xBounds[0], xBounds[1])\n",
    "        y = random.randint(yBounds[0], yBounds[1])\n",
    "        \n",
    "        if x >= y and x <= -y:\n",
    "            points.append([1, x/50.0,y/50.0])\n",
    "            targets.append(0)\n",
    "        else:\n",
    "            points.append([1, x/50.0,y/50.0])\n",
    "            targets.append(1)\n",
    "        \n",
    "    return np.array(points), np.array(targets)\n",
    "    \n",
    "def plotScatter(points):\n",
    "    xs = [x[1] for x in points]\n",
    "    ys = [y[2] for y in points]\n",
    "    \n",
    "    plt.scatter(xs, ys)"
   ]
  },
  {
   "cell_type": "code",
   "execution_count": 242,
   "metadata": {
    "collapsed": false
   },
   "outputs": [],
   "source": [
    "def logLoss(weights):\n",
    "    predictions = logisticPrediction(weights, points)\n",
    "    probs = predictions * targets + (1 - predictions) * (1 - targets)\n",
    "    return -np.sum(np.log(probs))\n",
    "    \n",
    "def logisticPrediction(weights, inputs):\n",
    "    return sigmoid(np.dot(inputs, weights))\n",
    "\n",
    "def sigmoid(t):\n",
    "    return 0.5 * (np.tanh(t) + 1)\n",
    "#     return 1.0/(1.0 + np.exp(-t))\n",
    "\n",
    "def trainBasicPerceptron():\n",
    "    weights = np.array([0.0, 0.0, 0.0])\n",
    "    trainingGradient = grad(logLoss)\n",
    "    \n",
    "    print(\"Initial Loss: \", logLoss(weights))\n",
    "    for i in range(1, 100):\n",
    "        weights -= trainingGradient(weights) * 0.01\n",
    "            \n",
    "    print(\"Trained Loss: \", logLoss(weights))    \n",
    "    print(\"Weights: \", weights)\n",
    "    return weights\n",
    "    \n",
    "    "
   ]
  },
  {
   "cell_type": "code",
   "execution_count": 255,
   "metadata": {
    "collapsed": false
   },
   "outputs": [],
   "source": [
    "def trainBoundarySeekerPerceptron():\n",
    "    # Start at the origin with gradient 0 \n",
    "    weights = np.array([0.0, 0.0, 0.0])\n",
    "    trainingGradient = grad(localLogLoss)\n",
    "    \n",
    "    print(\"Initial Loss: \", localLogLoss(weights))\n",
    "    for i in range(1, 100):\n",
    "        weights -= trainingGradient(weights) * 0.01\n",
    "            \n",
    "    print(\"Trained Loss: \", localLogLoss(weights))    \n",
    "    print(\"Weights: \", weights)\n",
    "    return weights\n",
    "    \n",
    "def pgLogisticPrediction(weights, inputs):\n",
    "    ins = np.array(list(map(lambda x: predict(weights, x), inputs)))\n",
    "    return sigmoid(ins)\n",
    "    \n",
    "def predict(weights, i):\n",
    "    return -1 * weights[0] * (weights[1] - i[1]) - weights[2] - i[2]\n",
    "    \n",
    "def localLogLoss(weights):\n",
    "    i = list(filter(lambda e: (points[e][1] - weights[1])**2 + (points[e][2] - weights[2])**2 <= 0.4**2, range(0, len(points))))\n",
    "    \n",
    "    local = np.array(list(map(lambda x: points[x], i)))\n",
    "    t = np.array(list(map(lambda x: targets[x], i)))\n",
    "    \n",
    "    predictions = pgLogisticPrediction(weights, local)\n",
    "    probs = predictions * t + (1 - predictions) * (1 - t)\n",
    "    return -np.sum(np.log(probs))\n",
    "    "
   ]
  },
  {
   "cell_type": "code",
   "execution_count": 256,
   "metadata": {
    "collapsed": false,
    "scrolled": true
   },
   "outputs": [
    {
     "name": "stdout",
     "output_type": "stream",
     "text": [
      "Type 0:  35\n",
      "Type 1:  65\n",
      "Training Basic Perceptron\n",
      "Initial Loss:  69.314718056\n",
      "Trained Loss:  26.2731743756\n",
      "Weights:  [ 1.30213782  0.68340515  2.9627996 ]\n",
      "\n",
      "\n",
      "Training Boundary Hunter Perceptron\n",
      "Initial Loss:  8.95038792754\n",
      "Trained Loss:  9.65429866213\n",
      "Weights:  [ 0.68248632 -0.01431048 -0.04013959]\n"
     ]
    },
    {
     "data": {
      "image/png": "[encoded data removed]",
      "text/plain": [
       "<matplotlib.figure.Figure at 0x159637c4f60>"
      ]
     },
     "metadata": {},
     "output_type": "display_data"
    }
   ],
   "source": [
    "\n",
    "random.seed(1234)\n",
    "points, targets = generateChevronData()\n",
    "\n",
    "plt.axis([-1.5, 1.5, -1.5, 1.5])\n",
    "\n",
    "# Plot points on graph\n",
    "c1 = []\n",
    "c2 = []\n",
    "\n",
    "for i in range(0, len(points)):\n",
    "    if targets[i] == 0:\n",
    "        c1.append(points[i])\n",
    "    else:\n",
    "        c2.append(points[i])\n",
    "\n",
    "print(\"Type 0: \", len(c1))\n",
    "print(\"Type 1: \", len(c2))\n",
    "        \n",
    "plotScatter(c1)\n",
    "plotScatter(c2)\n",
    "\n",
    "print(\"Training Basic Perceptron\")\n",
    "basicPerceptronWeights = trainBasicPerceptron()\n",
    "byas = -1 * basicPerceptronWeights[0]/basicPerceptronWeights[2]\n",
    "Xcoef = basicPerceptronWeights[1]/basicPerceptronWeights[2]\n",
    "\n",
    "plt.plot([-1.0, 1.0], [-1*Xcoef + byas, Xcoef + byas], 'k-')\n",
    "\n",
    "print(\"\\n\\nTraining Boundary Hunter Perceptron\")\n",
    "r1 = 0.25\n",
    "r2 = 1\n",
    "modifiedPerceptronWeights = trainBoundarySeekerPerceptron()\n",
    "plt.scatter(modifiedPerceptronWeights[1], modifiedPerceptronWeights[2])\n",
    "plt.plot([-1.0, 1.0], [modifiedPerceptronWeights[2] - modifiedPerceptronWeights[0]*(modifiedPerceptronWeights[1] + 1), modifiedPerceptronWeights[2] - modifiedPerceptronWeights[0]*(modifiedPerceptronWeights[1] - 1)], 'k-')\n",
    "\n",
    "x = np.linspace(-1.5, 1.5, 500)\n",
    "y = np.linspace(-1.5, 1.5, 500)\n",
    "X, Y = np.meshgrid(x,y)\n",
    "F = (X - modifiedPerceptronWeights[1])**2 + (Y - modifiedPerceptronWeights[2])**2 - 0.4**2\n",
    "plt.contour(X,Y,F,[0])\n",
    "\n",
    "plt.gca().set_aspect('equal')\n",
    "\n",
    "plt.show()"
   ]
  },
  {
   "cell_type": "markdown",
   "metadata": {},
   "source": [
    "In this situation the perceptron does what we would expect, drawing a line "
   ]
  },
  {
   "cell_type": "code",
   "execution_count": null,
   "metadata": {
    "collapsed": true
   },
   "outputs": [],
   "source": []
  },
  {
   "cell_type": "code",
   "execution_count": null,
   "metadata": {
    "collapsed": true
   },
   "outputs": [],
   "source": []
  },
  {
   "cell_type": "code",
   "execution_count": null,
   "metadata": {
    "collapsed": true
   },
   "outputs": [],
   "source": []
  }
 ],
 "metadata": {
  "kernelspec": {
   "display_name": "Python 3",
   "language": "python",
   "name": "python3"
  },
  "language_info": {
   "codemirror_mode": {
    "name": "ipython",
    "version": 3
   },
   "file_extension": ".py",
   "mimetype": "text/x-python",
   "name": "python",
   "nbconvert_exporter": "python",
   "pygments_lexer": "ipython3",
   "version": "3.6.0"
  }
 },
 "nbformat": 4,
 "nbformat_minor": 2
}
