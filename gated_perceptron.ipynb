{
 "cells": [
  {
   "cell_type": "markdown",
   "metadata": {},
   "source": [
    "# Boundary hunting with a gated perceptron\n",
    "\n",
    "Marcus + Stephen conversation thoughts, and a Marcus=simple test version. Stephen : feel free to edit.\n",
    "\n",
    "\n",
    "### simple perceptron recap / setup\n",
    "Input patterns $x$ being mapped to output classes $t$.\n",
    "\n",
    "For a given $x$ pattern in dataset $\\mathcal{D} = \\{X,T\\}$, logistic regression (ie. a regular perceptron having weights and bias $w$) would output the probability of class 1 as $y = \\sigma(\\phi)$ where $\\sigma$ is the sigmoid squashing function, and $\\phi = w\\cdot x$.\n",
    "\n",
    "$t \\in \\{0,1\\}$ so the likelihood would be cross entropy and this is a good thing to maximize. Hence the loss is:\n",
    "\n",
    "$$L = -1 * \\big[t \\log y + (1-t) \\log (1-y) \\big]$$\n",
    "and its gradient is \n",
    "$$\\frac{\\partial L}{\\partial \\phi} = t-y $$\n",
    "\n",
    "##### aside: cartoon version\n",
    "Notice that $\\log \\sigma(\\phi) \\approx \\min(\\phi,0)$\n",
    "and $\\log (1-\\sigma(\\phi)) \\approx -\\max(\\phi,0)$. So the \"cartoon loss\" is:\n",
    "\n",
    "$$ L =\\max(\\phi,0) - t \\phi  $$\n",
    "\n",
    "Notice this is zero whenever the perceptron is correct, so it's adding up $|\\phi|$ for all the error cases in $\\mathcal{D}$. That is, it's the size of the *'pre-sigmoid'* error."
   ]
  },
  {
   "cell_type": "markdown",
   "metadata": {},
   "source": [
    "### gated perceptronoid\n",
    "Now the decision about whether to use the perceptron at all is being made by a sort of \"partner perceptron\": $g = \\sigma(\\psi)$ where $\\psi = u\\cdot x$ with $u$ being the weights. And I'm assuming $w$ and $u$ both have \"zeroth\" elements that handle their bias offsets.\n",
    "\n",
    "\n",
    "The partner perceptron gates the input to the sigmoid function of the decision perceptron:\n",
    "\n",
    "$y = \\sigma(z)$ with $z = g \\phi + (1-g) b$\n",
    " \n",
    "The loss is the same except that $\\phi$ is replaced by $z$.\n",
    " \n",
    "COMMENT: perhaps we should think of this unit as outputting two things - its prediction for the class and _whether it used the perceptron vs just a bent coin_. \n",
    "\n",
    "SUSPICION: we might want to penalise small $\\mid w \\mid$ and $\\mid u \\mid$, to force these guys to actually make decisions rather than sitting on their respective fences. That feels a bit of a kludge though...\n",
    "The motivation for this whole thing is that it would be good for even a lone worker to *absolutely nail* their work in part of the input space. I feel that this nailing aspect isn't yet present in the loss! "
   ]
  },
  {
   "cell_type": "markdown",
   "metadata": {},
   "source": [
    "### gradient of the loss\n",
    "Hmmm... just as before\n",
    "$$\\frac{\\partial L}{\\partial z} = t-y$$\n",
    "The gradients we're interested in are $\\frac{\\partial L}{\\partial \\phi}$ and  $\\frac{\\partial L}{\\partial g}$. By the chain rule the gradients for $\\phi$ and for $b$ are\n",
    "\n",
    "$$\\frac{\\partial L}{\\partial \\phi} = (t-y)  g, \\;\\;\\;\\;\\;\\;\\;\\;\\; \\frac{\\partial L}{\\partial b} = (t-y) (1-g)$$\n",
    "\n",
    "The first says only train the decision perceptron when the gate is \"on\".\n",
    "The second says train $b$ when the gate is \"off\". Good.\n",
    "\n",
    "The gradient for the gate itself is\n",
    "$$\\frac{\\partial L}{\\partial g} = (t-y) (\\phi-b) $$\n",
    "which is a little harder to interpret. Only learn when error. yup. And...?\n",
    "\n",
    "Push the job towards the smart neuron if the error $(t-y)$ correlates / has same sign as... $\\phi-b$. Otherwise, bush the job toward the dumb coin. Yeah?"
   ]
  },
  {
   "cell_type": "markdown",
   "metadata": {},
   "source": [
    "##### cartoon\n",
    "The idea of the cartoon loss is it might help us to see the gate functioning _in the loss itself_, is that right?\n",
    "\n",
    "The cartoon loss is zero if the whole unit is \"correct\" and if not it's the size of the (pre-sigmoid) error :\n",
    "$$ L = \\big| g \\phi + (1-g) b \\big| $$\n"
   ]
  },
  {
   "cell_type": "markdown",
   "metadata": {},
   "source": [
    "## Exploratory code to try this out"
   ]
  },
  {
   "cell_type": "code",
   "execution_count": 2,
   "metadata": {
    "collapsed": true
   },
   "outputs": [],
   "source": [
    "%matplotlib inline\n",
    "import numpy.random as rng\n",
    "import pylab as pl\n",
    "import autograd.numpy as np\n",
    "from autograd import grad"
   ]
  },
  {
   "cell_type": "code",
   "execution_count": 3,
   "metadata": {
    "collapsed": true
   },
   "outputs": [],
   "source": [
    "def sigmoid(phi):\n",
    "    return 1.0/(1.0 + np.exp(-phi))\n",
    "\n",
    "def calc_outputs(params):\n",
    "    # Sigmoid perceptron ('logistic regression')\n",
    "    XX = X - params['m']\n",
    "    phi = np.dot(XX, params['w']) \n",
    "    psi = np.dot(XX, params['u'])\n",
    "\n",
    "    job = sigmoid(psi)\n",
    "    out = sigmoid(job*phi + (1-job)*params['b'])\n",
    "    return job, out \n",
    "\n",
    "def classification_loss(params):\n",
    "    job,Y = calc_outputs(params)\n",
    "    return np.sum(Targ*np.log(Y) + (1-Targ)*np.log(1-Y))\n",
    "\n",
    "### We use autograd, delivers gradient of the loss\n",
    "classification_gradient = grad(classification_loss)"
   ]
  },
  {
   "cell_type": "code",
   "execution_count": 28,
   "metadata": {
    "collapsed": false
   },
   "outputs": [],
   "source": [
    "def init_params(Nins, weights_scale=1.0):\n",
    "    m = 2.0*rng.normal(0,1,size=(Nins)) # a point in the input space, through which decision plane passes\n",
    "    w = weights_scale*rng.normal(0,1,size=(Nins)) # direction of normal to a decision hyperplane\n",
    "    u = weights_scale*rng.normal(0,1,size=(Nins)) # direction of normal to a decision hyperplane\n",
    "    b = .25+.5*rng.random() # number between 0 and 1 = prob of Targ=1 in the gate=0 region\n",
    "    params = {'m':m, 'w':w, 'u':u, 'b':b}\n",
    "    return(params)"
   ]
  },
  {
   "cell_type": "code",
   "execution_count": 29,
   "metadata": {
    "collapsed": false
   },
   "outputs": [],
   "source": [
    "def do_plots(params):\n",
    "    m,u,w,b = params['m'],truth_params['u'],truth_params['w'],truth_params['b'] \n",
    "    gate, out = calc_outputs(params)\n",
    "\n",
    "    cl ={0:'red', 1:'black'}\n",
    "    pl.subplot(131)\n",
    "    for i, x in enumerate(X):\n",
    "        pl.plot(x[0],x[1],'.',color=cl[int(Targ[i])],alpha=.5,markersize=12)\n",
    "    pl.axis('off'); pl.axis('equal'); pl.title('truth')\n",
    "    pl.subplot(132)\n",
    "    for i, x in enumerate(X):\n",
    "        pl.plot(x[0],x[1],'.',color='blue',alpha=.1+.8*gate[i], markersize=12)\n",
    "    pl.axis('off'); pl.axis('equal'); pl.title('my job')\n",
    "    pl.axis('off')\n",
    "    pl.axis('equal')\n",
    "    pl.subplot(133)\n",
    "    for i, x in enumerate(X):\n",
    "        pl.plot(x[0],x[1],'.',color='black',alpha=.5*out[i],markersize=12)\n",
    "        pl.plot(x[0],x[1],'.',color='red',  alpha=.5*(1-out[i]),markersize=12)\n",
    "    pl.axis('off'); pl.axis('equal'); pl.title('out')\n",
    "    "
   ]
  },
  {
   "cell_type": "markdown",
   "metadata": {},
   "source": [
    "## Make up an 'on-model' dataset"
   ]
  },
  {
   "cell_type": "code",
   "execution_count": 40,
   "metadata": {
    "collapsed": false
   },
   "outputs": [
    {
     "data": {
      "image/png": "[encoded data removed]",
      "text/plain": [
       "<matplotlib.figure.Figure at 0x7f5c293f36a0>"
      ]
     },
     "metadata": {},
     "output_type": "display_data"
    }
   ],
   "source": [
    "Npats, Nins = 300, 2\n",
    "X = 2*rng.normal(0,1,size=(Npats,Nins))  # the data points\n",
    "truth_params = init_params(Nins, 4.)\n",
    "job, out = calc_outputs(truth_params)\n",
    "Targ = 1.*(rng.random(out.shape) < out)\n",
    "\n",
    "do_plots(truth_params)"
   ]
  },
  {
   "cell_type": "markdown",
   "metadata": {},
   "source": [
    "## Learning, starting from random weights and bias."
   ]
  },
  {
   "cell_type": "code",
   "execution_count": 41,
   "metadata": {
    "collapsed": true
   },
   "outputs": [],
   "source": [
    "def do_one_learning_step(params,X,Targ,rate):  # one step of learning\n",
    "    grads = classification_gradient(params)\n",
    "    for s in params.keys():\n",
    "        change = rate * grads[s]\n",
    "        params[s] = params[s] + change\n",
    "        params[s] = params[s] * .999\n",
    "    params['b'] = params['b'] * .95  # \"weight decay\" on b encourages mediocrity in NotMyJob\n",
    "    return (params)"
   ]
  },
  {
   "cell_type": "code",
   "execution_count": 48,
   "metadata": {
    "collapsed": false
   },
   "outputs": [
    {
     "name": "stdout",
     "output_type": "stream",
     "text": [
      "-114.823697291\n"
     ]
    },
    {
     "data": {
      "text/plain": [
       "[<matplotlib.lines.Line2D at 0x7f5c28ff8ef0>]"
      ]
     },
     "execution_count": 48,
     "metadata": {},
     "output_type": "execute_result"
    },
    {
     "data": {
      "image/png": "[encoded data removed]",
      "text/plain": [
       "<matplotlib.figure.Figure at 0x7f5c28ff81d0>"
      ]
     },
     "metadata": {},
     "output_type": "display_data"
    }
   ],
   "source": [
    "#params = truth_params.copy() #to start from truth - just a test obviously!\n",
    "params = init_params(Nins, 0.5) # to start from random point in parameter space\n",
    "L = []\n",
    "rate = 0.002\n",
    "steps = 1000.\n",
    "T = np.arange(steps)\n",
    "for t in T:\n",
    "    params = do_one_learning_step(params,X,Targ,rate)\n",
    "    L.append(classification_loss(params))\n",
    "\n",
    "pl.plot(T,L)\n",
    "Lopt = classification_loss(truth_params)\n",
    "print(Lopt)\n",
    "pl.plot([0,np.max(T)],[Lopt,Lopt],'-g')"
   ]
  },
  {
   "cell_type": "code",
   "execution_count": 49,
   "metadata": {
    "collapsed": false
   },
   "outputs": [
    {
     "data": {
      "image/png": "[encoded data removed]",
      "text/plain": [
       "<matplotlib.figure.Figure at 0x7f5c295bd8d0>"
      ]
     },
     "metadata": {},
     "output_type": "display_data"
    }
   ],
   "source": [
    "do_plots(params)"
   ]
  },
  {
   "cell_type": "code",
   "execution_count": null,
   "metadata": {
    "collapsed": true
   },
   "outputs": [],
   "source": []
  }
 ],
 "metadata": {
  "kernelspec": {
   "display_name": "Python 3",
   "language": "python",
   "name": "python3"
  },
  "language_info": {
   "codemirror_mode": {
    "name": "ipython",
    "version": 3
   },
   "file_extension": ".py",
   "mimetype": "text/x-python",
   "name": "python",
   "nbconvert_exporter": "python",
   "pygments_lexer": "ipython3",
   "version": "3.5.2"
  }
 },
 "nbformat": 4,
 "nbformat_minor": 1
}
